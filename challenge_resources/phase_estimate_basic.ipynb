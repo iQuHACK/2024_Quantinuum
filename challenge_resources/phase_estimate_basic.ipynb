{
 "cells": [
  {
   "cell_type": "markdown",
   "id": "26e3d766-fa6b-44b2-af47-fa8191f5fcc2",
   "metadata": {},
   "source": [
    "## ***Phase Estimation Via Single Qubit Superposition (H1-1E)***\n",
    "\n",
    "Here we implement a circuit for quantum phase estimation where the estimate is encoded in the probability distribution of a single qubit. The benefit of this is that we have essentially infinite precision as opposed to encoding the phase estimate in binary, although the number of qubits will not scale well for larger unitary matrices. \n",
    "\n",
    "Importing the neccessary libraries and creating a sample 2x2 unitary matrix (U1 gate, see the IBM docs [here](https://docs.quantum.ibm.com/api/qiskit/qiskit.circuit.library.U1Gate)) :"
   ]
  },
  {
   "cell_type": "code",
   "execution_count": 72,
   "id": "fd99b4e5-fba5-4834-be4b-47ab8d453a08",
   "metadata": {},
   "outputs": [],
   "source": [
    "from pytket.circuit import Circuit, Unitary1qBox, Unitary2qBox\n",
    "import numpy as np\n",
    "from pytket.circuit import OpType\n",
    "\n",
    "# u1 = np.asarray([[1, 0],\n",
    "#                  [0, 1]])\n",
    "# u1box = Unitary1qBox(u1)\n",
    "\n",
    "#U1 - diagnol matrix where input_angle / 2 = eigen-value = phase estimate [0,1) \n",
    "#we easily check this \n",
    "input_angle = 0.73  # angle as number of half turns\n",
    "unitary_circuit = Circuit(1).U1(input_angle, 0)  # Base unitary for controlled U ops"
   ]
  },
  {
   "cell_type": "code",
   "execution_count": 73,
   "id": "f03cec96-76df-422d-9b69-2dbf47deaf3b",
   "metadata": {},
   "outputs": [],
   "source": [
    "from pytket.circuit import Op\n",
    "\n",
    "base_u1 = Op.create(OpType.U1, [0.5])"
   ]
  },
  {
   "cell_type": "code",
   "execution_count": 74,
   "id": "6b9c8581-0ebe-4904-aec4-7652addea841",
   "metadata": {},
   "outputs": [],
   "source": [
    "from pytket.circuit import QControlBox\n",
    "from pytket.circuit import CircBox\n",
    "\n",
    "controlled_u1 = QControlBox(CircBox(unitary_circuit), n=2)"
   ]
  },
  {
   "cell_type": "markdown",
   "id": "04645c94-ae6b-4395-bbd9-4ea1622172e0",
   "metadata": {},
   "source": [
    "\n",
    "&nbsp;\n",
    "\n",
    "Now let's create and display the circuit we will use:"
   ]
  },
  {
   "cell_type": "code",
   "execution_count": 113,
   "id": "00b93481-6ed0-45c3-81c1-fdc4a321c927",
   "metadata": {},
   "outputs": [
    {
     "data": {
      "text/html": [
       "\n",
       "\n",
       "\n",
       "\n",
       "\n",
       "\n",
       "<div style=\"resize: vertical; overflow: auto; height: 400px; display: block\">\n",
       "    <iframe srcdoc=\"\n",
       "&lt;!DOCTYPE html&gt;\n",
       "&lt;html lang=&#34;en&#34;&gt;\n",
       "&lt;head&gt;\n",
       "    &lt;meta charset=&#34;UTF-8&#34;&gt;\n",
       "    &lt;!-- Download Vue 3--&gt;\n",
       "&lt;script type=&#34;application/javascript&#34; src=&#34;https://cdn.jsdelivr.net/npm/vue@3&#34;&gt;&lt;/script&gt;\n",
       "&lt;!-- Download Circuit Renderer with styles --&gt;\n",
       "&lt;script type=&#34;application/javascript&#34; src=&#34;https://unpkg.com/pytket-circuit-renderer@0.7/dist/pytket-circuit-renderer.umd.js&#34;&gt;&lt;/script&gt;\n",
       "&lt;link rel=&#34;stylesheet&#34; href=&#34;https://unpkg.com/pytket-circuit-renderer@0.7/dist/pytket-circuit-renderer.css&#34;&gt;\n",
       "&lt;/head&gt;\n",
       "&lt;body&gt;\n",
       "\n",
       "\n",
       "\n",
       "    &lt;div id=&#34;circuit-display-vue-container-720aeb2a-9828-4f59-bc32-12c8e66037c7&#34; class=&#34;pytket-circuit-display-container&#34;&gt;\n",
       "        &lt;div style=&#34;display: none&#34;&gt;\n",
       "            &lt;div id=&#34;circuit-json-to-display&#34;&gt;{&#34;bits&#34;: [[&#34;c&#34;, [0]]], &#34;commands&#34;: [{&#34;args&#34;: [[&#34;q&#34;, [0]]], &#34;op&#34;: {&#34;type&#34;: &#34;H&#34;}}, {&#34;args&#34;: [[&#34;q&#34;, [1]]], &#34;op&#34;: {&#34;type&#34;: &#34;X&#34;}}, {&#34;args&#34;: [[&#34;q&#34;, [0]], [&#34;q&#34;, [1]]], &#34;op&#34;: {&#34;params&#34;: [&#34;0.73&#34;], &#34;type&#34;: &#34;CU1&#34;}}, {&#34;args&#34;: [[&#34;q&#34;, [0]]], &#34;op&#34;: {&#34;type&#34;: &#34;H&#34;}}, {&#34;args&#34;: [[&#34;q&#34;, [0]], [&#34;c&#34;, [0]]], &#34;op&#34;: {&#34;type&#34;: &#34;Measure&#34;}}], &#34;created_qubits&#34;: [], &#34;discarded_qubits&#34;: [], &#34;implicit_permutation&#34;: [[[&#34;q&#34;, [0]], [&#34;q&#34;, [0]]], [[&#34;q&#34;, [1]], [&#34;q&#34;, [1]]]], &#34;phase&#34;: &#34;0.0&#34;, &#34;qubits&#34;: [[&#34;q&#34;, [0]], [&#34;q&#34;, [1]]]}&lt;/div&gt;\n",
       "        &lt;/div&gt;\n",
       "        &lt;circuit-display-container\n",
       "                :circuit-element-str=&#34;&#39;#circuit-json-to-display&#39;&#34;\n",
       "                :init-render-options=&#34;initRenderOptions&#34;\n",
       "        &gt;&lt;/circuit-display-container&gt;\n",
       "    &lt;/div&gt;\n",
       "    &lt;script type=&#34;application/javascript&#34;&gt;\n",
       "      const circuitRendererUid = &#34;720aeb2a-9828-4f59-bc32-12c8e66037c7&#34;;\n",
       "      const displayOptions = JSON.parse(&#39;{}&#39;);\n",
       "\n",
       "      // Script to initialise the circuit renderer app\n",
       "\n",
       "const { createApp } = Vue;\n",
       "const circuitDisplayContainer = window[&#34;pytket-circuit-renderer&#34;].default;\n",
       "// Init variables to be shared between circuit display instances\n",
       "if (typeof window.pytketCircuitDisplays === &#34;undefined&#34;) {\n",
       "    window.pytketCircuitDisplays = {};\n",
       "}\n",
       "// Create the root Vue component\n",
       "const app = createApp({\n",
       "    delimiters: [&#39;[[#&#39;, &#39;#]]&#39;],\n",
       "    components: { circuitDisplayContainer },\n",
       "    data () {\n",
       "      return {\n",
       "        initRenderOptions: displayOptions,\n",
       "      }\n",
       "    }\n",
       "})\n",
       "app.config.unwrapInjectedRef = true;\n",
       "app.mount(&#34;#circuit-display-vue-container-&#34;+circuitRendererUid);\n",
       "window.pytketCircuitDisplays[circuitRendererUid] = app;\n",
       "    &lt;/script&gt;\n",
       "\n",
       "\n",
       "\n",
       "&lt;/body&gt;\n",
       "&lt;/html&gt;\n",
       "\"\n",
       "            width=\"100%\" height=\"100%\"\n",
       "            style=\"border: none; outline: none; overflow: auto\"></iframe>\n",
       "</div>\n",
       "\n"
      ],
      "text/plain": [
       "<IPython.core.display.HTML object>"
      ]
     },
     "metadata": {},
     "output_type": "display_data"
    }
   ],
   "source": [
    "from pytket import Circuit\n",
    "from pytket import OpType\n",
    "from pytket.circuit.display import render_circuit_jupyter\n",
    "\n",
    "basic_circuit = Circuit(2,1)\n",
    "\n",
    "basic_circuit.H(0)\n",
    "basic_circuit.X(1)\n",
    "basic_circuit.CU1(input_angle, 0, 1)\n",
    "basic_circuit.H(0)\n",
    "\n",
    "#After second H-gate we measure and save to classical bit and read that value\n",
    "basic_circuit.Measure(0,0)\n",
    "\n",
    "render_circuit_jupyter(basic_circuit)\n",
    "\n",
    "\n",
    "basic_circuit.name = \"iterative_basic_arjun\"\n"
   ]
  },
  {
   "cell_type": "markdown",
   "id": "73d784e4-706e-43c2-8cd4-299aff3ff4b5",
   "metadata": {},
   "source": [
    "You can find the justification for the circuit and understand how we will use it for phase estimation at *IBM's Qiskit Tutorial* linked [here](https://www.youtube.com/watch?v=4nT0BTUxhJY). \n",
    "\n",
    "\n",
    "Let's compile the circuit using the Nexus platform. For the first iteration we will use $n = 10$ shots:\n",
    "\n",
    "\n"
   ]
  },
  {
   "cell_type": "code",
   "execution_count": 76,
   "id": "a8e06b96-443c-40e4-8f64-5e9da12800d0",
   "metadata": {},
   "outputs": [
    {
     "name": "stdout",
     "output_type": "stream",
     "text": [
      "\n",
      "New project created: Nexus iQuHack tutorial project! - 2024-02-04 01:37:08.818899\n"
     ]
    }
   ],
   "source": [
    "from pytket.extensions.nexus import Nexus\n",
    "from datetime import datetime\n",
    "\n",
    "nexus = Nexus()\n",
    "my_project = nexus.new_project(name=f\"Nexus iQuHack tutorial project! - {datetime.now()}\")"
   ]
  },
  {
   "cell_type": "code",
   "execution_count": 77,
   "id": "850001a8-bb53-47e2-995f-504b5c31b50b",
   "metadata": {},
   "outputs": [],
   "source": [
    "from pytket.extensions.nexus import QuantinuumConfig\n",
    "\n",
    "#user_group=\"iQuHACK_2024\" <- only use on H1-1LE emulator\n",
    "configuration = QuantinuumConfig(device_name=\"H1-1E\")"
   ]
  },
  {
   "cell_type": "code",
   "execution_count": 78,
   "id": "bfaa7df0-b346-4410-9712-3f4c6165c860",
   "metadata": {},
   "outputs": [
    {
     "name": "stdout",
     "output_type": "stream",
     "text": [
      "\n",
      "Started using project with name: Nexus iQuHack tutorial project! - 2024-02-04 01:37:08.818899\n"
     ]
    }
   ],
   "source": [
    "from pytket.extensions.nexus import NexusBackend\n",
    "\n",
    "# Then we'll create a NexusBackend using our config and the project we created\n",
    "backend = NexusBackend(configuration, project=my_project)"
   ]
  },
  {
   "cell_type": "code",
   "execution_count": 79,
   "id": "a17204c8-85ae-419b-a344-3a742ce4e036",
   "metadata": {},
   "outputs": [],
   "source": [
    "# Compile the circuit in Nexus\n",
    "compiled_circuit = backend.get_compiled_circuit(basic_circuit, optimisation_level=2)"
   ]
  },
  {
   "cell_type": "code",
   "execution_count": 94,
   "id": "8d2bcbbc-ea0b-4537-807c-43eaf18243c1",
   "metadata": {},
   "outputs": [
    {
     "name": "stdout",
     "output_type": "stream",
     "text": [
      "('ae2663e2-8b9f-49ef-90ff-4f8ee7f64222', 1898338)\n"
     ]
    }
   ],
   "source": [
    "# Run the compiled circuit for 10 shots\n",
    "handle = backend.process_circuit(compiled_circuit, n_shots=10)\n",
    "\n",
    "# This will give you a ResultHandle\n",
    "# As with other pytket-backends, a ResultHandle identifies a particular run of the circuit, which you can then use to keep track of the job status.\n",
    "print(handle)"
   ]
  },
  {
   "cell_type": "code",
   "execution_count": 95,
   "id": "51491d79-40c7-4990-a847-e60a98ad4906",
   "metadata": {},
   "outputs": [
    {
     "data": {
      "text/plain": [
       "CircuitStatus(status=<StatusEnum.SUBMITTED: 'Circuit has been submitted.'>, message='Circuit has been submitted to Nexus for Processing.', error_detail=None, completed_time=None, queued_time=None, submitted_time=datetime.datetime(2024, 2, 4, 1, 54, 20, 496172, tzinfo=datetime.timezone.utc), running_time=None, cancelled_time=None, error_time=None, queue_position=None)"
      ]
     },
     "execution_count": 95,
     "metadata": {},
     "output_type": "execute_result"
    }
   ],
   "source": [
    "# Get an update on the status\n",
    "backend.circuit_status(handle)"
   ]
  },
  {
   "cell_type": "code",
   "execution_count": 96,
   "id": "d84d8954-adfd-4861-957b-a99adb79f217",
   "metadata": {},
   "outputs": [
    {
     "data": {
      "text/plain": [
       "Counter({(0,): 3, (1,): 7})"
      ]
     },
     "execution_count": 96,
     "metadata": {},
     "output_type": "execute_result"
    }
   ],
   "source": [
    "# If the job is COMPLETED we can then retrieve the result with the handle\n",
    "result = backend.get_result(handle)\n",
    "result.get_counts()"
   ]
  },
  {
   "cell_type": "code",
   "execution_count": 97,
   "id": "4149ed11-6b26-4700-b9b2-48743c641d6e",
   "metadata": {},
   "outputs": [
    {
     "data": {
      "text/plain": [
       "{(0,): 0.3, (1,): 0.7}"
      ]
     },
     "execution_count": 97,
     "metadata": {},
     "output_type": "execute_result"
    }
   ],
   "source": [
    "result.get_distribution()"
   ]
  },
  {
   "cell_type": "markdown",
   "id": "01a869d1-ae7e-4751-bdb9-dd2f5eeb3938",
   "metadata": {},
   "source": [
    "We use the probability distribution to compute the theta estimate. From the measurement of qubit 0's final quantum state, we will find the following equations of which either will suffice:\n",
    "\n",
    "$$ P_0 = |\\frac{1 + e^{2\\pi i\\theta}}{2}|^{2} = cos^2(\\pi \\theta) $$\n",
    "$$ P_1 = |\\frac{1 - e^{2\\pi i\\theta}}{2}|^{2} = sin^2(\\pi \\theta) $$"
   ]
  },
  {
   "cell_type": "markdown",
   "id": "3c66adf4-afba-497c-95d9-512d7746682e",
   "metadata": {},
   "source": [
    "Let's use the the first equation and compare to the true phase:"
   ]
  },
  {
   "cell_type": "code",
   "execution_count": 123,
   "id": "e13a5a1a-3a74-471f-bd78-814f4bc095b5",
   "metadata": {},
   "outputs": [
    {
     "name": "stdout",
     "output_type": "stream",
     "text": [
      "Phase estimate: 0.31549494021722735\n",
      "True value: 0.365\n",
      "Error: 0.13563030077471958\n"
     ]
    }
   ],
   "source": [
    "import math\n",
    "\n",
    "def compare(res, input_angle):\n",
    "    zero_prob = res[(0,)]\n",
    "    theta_estimate = math.acos(math.sqrt(zero_prob)) / math.pi\n",
    "\n",
    "    while(input_angle > 2):\n",
    "        input_angle -= 2\n",
    "    \n",
    "    truth_val = input_angle/2\n",
    "\n",
    "    print(\"Phase estimate:\", theta_estimate)\n",
    "    print(\"True value:\", truth_val)\n",
    "    print(\"Error:\", abs(truth_val-theta_estimate)/truth_val)\n",
    "\n",
    "\n",
    "compare(result.get_distribution(), input_angle)"
   ]
  },
  {
   "cell_type": "markdown",
   "id": "d6423575-6587-46f5-8dbe-20213f35b40b",
   "metadata": {},
   "source": [
    "Not a bad estimate for only using $n=10$ shots! Let's try again with larger values of $n$ and different phase values and plot the results:"
   ]
  },
  {
   "cell_type": "code",
   "execution_count": null,
   "id": "e2f0ccd6-b753-4e1a-bb40-16de0dfac44c",
   "metadata": {},
   "outputs": [
    {
     "name": "stdout",
     "output_type": "stream",
     "text": [
      "\n",
      "New project created: Nexus iQuHack tutorial project! - 2024-02-04 02:07:17.227355\n",
      "\n",
      "Started using project with name: Nexus iQuHack tutorial project! - 2024-02-04 02:07:17.227355\n"
     ]
    }
   ],
   "source": [
    "nexus = Nexus()\n",
    "my_project = nexus.new_project(name=f\"Nexus iQuHack tutorial project! - {datetime.now()}\")\n",
    "configuration = QuantinuumConfig(device_name=\"H1-1E\")\n",
    "backend = NexusBackend(configuration, project=my_project)\n",
    "\n",
    "compiled_circuit = backend.get_compiled_circuit(basic_circuit, optimisation_level=2)"
   ]
  },
  {
   "cell_type": "code",
   "execution_count": null,
   "id": "0e76cf44-5da6-44d7-b8bc-cfe728946c10",
   "metadata": {},
   "outputs": [],
   "source": [
    "handle = backend.process_circuit(compiled_circuit, n_shots=100)"
   ]
  },
  {
   "cell_type": "code",
   "execution_count": null,
   "id": "6d0fd07b-7cf0-43bc-b17e-bf021b0647d4",
   "metadata": {},
   "outputs": [],
   "source": [
    "result.get_distribution()"
   ]
  },
  {
   "cell_type": "code",
   "execution_count": null,
   "id": "439e1ae7-ae27-4f4a-8636-f3800dc1b71b",
   "metadata": {},
   "outputs": [],
   "source": []
  }
 ],
 "metadata": {
  "kernelspec": {
   "display_name": "Python 3 (ipykernel)",
   "language": "python",
   "name": "python3"
  },
  "language_info": {
   "codemirror_mode": {
    "name": "ipython",
    "version": 3
   },
   "file_extension": ".py",
   "mimetype": "text/x-python",
   "name": "python",
   "nbconvert_exporter": "python",
   "pygments_lexer": "ipython3",
   "version": "3.10.10"
  }
 },
 "nbformat": 4,
 "nbformat_minor": 5
}
