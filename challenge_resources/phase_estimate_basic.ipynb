{
 "cells": [
  {
   "cell_type": "code",
   "execution_count": 115,
   "id": "98a1a310-a1ce-4630-a9d9-d83de3675445",
   "metadata": {},
   "outputs": [],
   "source": [
    "from pytket.circuit import Circuit, Unitary1qBox, Unitary2qBox\n",
    "import numpy as np\n",
    "from pytket.circuit import OpType\n",
    "\n",
    "# u1 = np.asarray([[1, 0],\n",
    "#                  [0, 1]])\n",
    "# u1box = Unitary1qBox(u1)\n",
    "\n",
    "#U1 - diagnol matrix where input_angle / 2 = eigen-value = phase estimate [0,1) \n",
    "#we easily check this \n",
    "input_angle = 0.73  # angle as number of half turns\n",
    "unitary_circuit = Circuit(1).U1(input_angle, 0)  # Base unitary for controlled U ops"
   ]
  },
  {
   "cell_type": "code",
   "execution_count": 116,
   "id": "f03cec96-76df-422d-9b69-2dbf47deaf3b",
   "metadata": {},
   "outputs": [],
   "source": [
    "from pytket.circuit import Op\n",
    "\n",
    "base_u1 = Op.create(OpType.U1, [0.5])"
   ]
  },
  {
   "cell_type": "code",
   "execution_count": 117,
   "id": "6b9c8581-0ebe-4904-aec4-7652addea841",
   "metadata": {},
   "outputs": [],
   "source": [
    "from pytket.circuit import QControlBox\n",
    "from pytket.circuit import CircBox\n",
    "\n",
    "controlled_u1 = QControlBox(CircBox(unitary_circuit), n=2)"
   ]
  },
  {
   "cell_type": "code",
   "execution_count": 118,
   "id": "00b93481-6ed0-45c3-81c1-fdc4a321c927",
   "metadata": {},
   "outputs": [
    {
     "data": {
      "text/html": [
       "\n",
       "\n",
       "\n",
       "\n",
       "\n",
       "\n",
       "<div style=\"resize: vertical; overflow: auto; height: 400px; display: block\">\n",
       "    <iframe srcdoc=\"\n",
       "&lt;!DOCTYPE html&gt;\n",
       "&lt;html lang=&#34;en&#34;&gt;\n",
       "&lt;head&gt;\n",
       "    &lt;meta charset=&#34;UTF-8&#34;&gt;\n",
       "    &lt;!-- Download Vue 3--&gt;\n",
       "&lt;script type=&#34;application/javascript&#34; src=&#34;https://cdn.jsdelivr.net/npm/vue@3&#34;&gt;&lt;/script&gt;\n",
       "&lt;!-- Download Circuit Renderer with styles --&gt;\n",
       "&lt;script type=&#34;application/javascript&#34; src=&#34;https://unpkg.com/pytket-circuit-renderer@0.7/dist/pytket-circuit-renderer.umd.js&#34;&gt;&lt;/script&gt;\n",
       "&lt;link rel=&#34;stylesheet&#34; href=&#34;https://unpkg.com/pytket-circuit-renderer@0.7/dist/pytket-circuit-renderer.css&#34;&gt;\n",
       "&lt;/head&gt;\n",
       "&lt;body&gt;\n",
       "\n",
       "\n",
       "\n",
       "    &lt;div id=&#34;circuit-display-vue-container-57d3d4f7-a6dd-4487-a777-39b127529f83&#34; class=&#34;pytket-circuit-display-container&#34;&gt;\n",
       "        &lt;div style=&#34;display: none&#34;&gt;\n",
       "            &lt;div id=&#34;circuit-json-to-display&#34;&gt;{&#34;bits&#34;: [[&#34;c&#34;, [0]]], &#34;commands&#34;: [{&#34;args&#34;: [[&#34;q&#34;, [0]]], &#34;op&#34;: {&#34;type&#34;: &#34;H&#34;}}, {&#34;args&#34;: [[&#34;q&#34;, [0]], [&#34;q&#34;, [1]]], &#34;op&#34;: {&#34;params&#34;: [&#34;0.73&#34;], &#34;type&#34;: &#34;CU1&#34;}}, {&#34;args&#34;: [[&#34;q&#34;, [0]]], &#34;op&#34;: {&#34;type&#34;: &#34;H&#34;}}, {&#34;args&#34;: [[&#34;q&#34;, [0]], [&#34;c&#34;, [0]]], &#34;op&#34;: {&#34;type&#34;: &#34;Measure&#34;}}], &#34;created_qubits&#34;: [], &#34;discarded_qubits&#34;: [], &#34;implicit_permutation&#34;: [[[&#34;q&#34;, [0]], [&#34;q&#34;, [0]]], [[&#34;q&#34;, [1]], [&#34;q&#34;, [1]]]], &#34;phase&#34;: &#34;0.0&#34;, &#34;qubits&#34;: [[&#34;q&#34;, [0]], [&#34;q&#34;, [1]]]}&lt;/div&gt;\n",
       "        &lt;/div&gt;\n",
       "        &lt;circuit-display-container\n",
       "                :circuit-element-str=&#34;&#39;#circuit-json-to-display&#39;&#34;\n",
       "                :init-render-options=&#34;initRenderOptions&#34;\n",
       "        &gt;&lt;/circuit-display-container&gt;\n",
       "    &lt;/div&gt;\n",
       "    &lt;script type=&#34;application/javascript&#34;&gt;\n",
       "      const circuitRendererUid = &#34;57d3d4f7-a6dd-4487-a777-39b127529f83&#34;;\n",
       "      const displayOptions = JSON.parse(&#39;{}&#39;);\n",
       "\n",
       "      // Script to initialise the circuit renderer app\n",
       "\n",
       "const { createApp } = Vue;\n",
       "const circuitDisplayContainer = window[&#34;pytket-circuit-renderer&#34;].default;\n",
       "// Init variables to be shared between circuit display instances\n",
       "if (typeof window.pytketCircuitDisplays === &#34;undefined&#34;) {\n",
       "    window.pytketCircuitDisplays = {};\n",
       "}\n",
       "// Create the root Vue component\n",
       "const app = createApp({\n",
       "    delimiters: [&#39;[[#&#39;, &#39;#]]&#39;],\n",
       "    components: { circuitDisplayContainer },\n",
       "    data () {\n",
       "      return {\n",
       "        initRenderOptions: displayOptions,\n",
       "      }\n",
       "    }\n",
       "})\n",
       "app.config.unwrapInjectedRef = true;\n",
       "app.mount(&#34;#circuit-display-vue-container-&#34;+circuitRendererUid);\n",
       "window.pytketCircuitDisplays[circuitRendererUid] = app;\n",
       "    &lt;/script&gt;\n",
       "\n",
       "\n",
       "\n",
       "&lt;/body&gt;\n",
       "&lt;/html&gt;\n",
       "\"\n",
       "            width=\"100%\" height=\"100%\"\n",
       "            style=\"border: none; outline: none; overflow: auto\"></iframe>\n",
       "</div>\n",
       "\n"
      ],
      "text/plain": [
       "<IPython.core.display.HTML object>"
      ]
     },
     "metadata": {},
     "output_type": "display_data"
    }
   ],
   "source": [
    "from pytket import Circuit\n",
    "from pytket import OpType\n",
    "from pytket.circuit.display import render_circuit_jupyter\n",
    "\n",
    "basic_circuit = Circuit(2,1)\n",
    "\n",
    "basic_circuit.H(0)\n",
    "basic_circuit.CU1(input_angle, 0, 1)\n",
    "basic_circuit.H(0)\n",
    "\n",
    "#After second H-gate we measure and save to classical bit and read that value\n",
    "basic_circuit.Measure(0,0)\n",
    "\n",
    "render_circuit_jupyter(basic_circuit)\n",
    "\n",
    "\n",
    "basic_circuit.name = \"iterative_basic_arjun\"\n"
   ]
  },
  {
   "cell_type": "code",
   "execution_count": 119,
   "id": "a8e06b96-443c-40e4-8f64-5e9da12800d0",
   "metadata": {},
   "outputs": [
    {
     "name": "stdout",
     "output_type": "stream",
     "text": [
      "\n",
      "New project created: Nexus iQuHack tutorial project! - 2024-02-03 23:37:34.582726\n"
     ]
    }
   ],
   "source": [
    "from pytket.extensions.nexus import Nexus\n",
    "from datetime import datetime\n",
    "\n",
    "nexus = Nexus()\n",
    "my_project = nexus.new_project(name=f\"Nexus iQuHack tutorial project! - {datetime.now()}\")"
   ]
  },
  {
   "cell_type": "code",
   "execution_count": 126,
   "id": "850001a8-bb53-47e2-995f-504b5c31b50b",
   "metadata": {},
   "outputs": [],
   "source": [
    "from pytket.extensions.nexus import QuantinuumConfig\n",
    "\n",
    "\n",
    "configuration = QuantinuumConfig(device_name=\"H1-1LE\", user_group=\"iQuHACK_2024\")"
   ]
  },
  {
   "cell_type": "code",
   "execution_count": 121,
   "id": "bfaa7df0-b346-4410-9712-3f4c6165c860",
   "metadata": {},
   "outputs": [
    {
     "name": "stdout",
     "output_type": "stream",
     "text": [
      "\n",
      "Started using project with name: Nexus iQuHack tutorial project! - 2024-02-03 23:37:34.582726\n"
     ]
    }
   ],
   "source": [
    "from pytket.extensions.nexus import NexusBackend\n",
    "\n",
    "# Then we'll create a NexusBackend using our config and the project we created\n",
    "backend = NexusBackend(configuration, project=my_project)"
   ]
  },
  {
   "cell_type": "code",
   "execution_count": 122,
   "id": "a17204c8-85ae-419b-a344-3a742ce4e036",
   "metadata": {},
   "outputs": [],
   "source": [
    "# Compile the circuit in Nexus\n",
    "compiled_circuit = backend.get_compiled_circuit(my_circuit, optimisation_level=2)"
   ]
  },
  {
   "cell_type": "code",
   "execution_count": 123,
   "id": "8d2bcbbc-ea0b-4537-807c-43eaf18243c1",
   "metadata": {},
   "outputs": [
    {
     "name": "stdout",
     "output_type": "stream",
     "text": [
      "('fd54fb42-0f0c-46c5-ac94-5c125fb786ca', 1894211)\n"
     ]
    }
   ],
   "source": [
    "# Run the compiled circuit for 10 shots\n",
    "handle = backend.process_circuit(compiled_circuit, n_shots=10)\n",
    "\n",
    "\n",
    "# This will give you a ResultHandle\n",
    "# As with other pytket-backends, a ResultHandle identifies a particular run of the circuit, which you can then use to keep track of the job status.\n",
    "print(handle)"
   ]
  },
  {
   "cell_type": "code",
   "execution_count": 124,
   "id": "51491d79-40c7-4990-a847-e60a98ad4906",
   "metadata": {},
   "outputs": [
    {
     "data": {
      "text/plain": [
       "CircuitStatus(status=<StatusEnum.ERROR: 'Circuit has errored. Check CircuitStatus.message for error message.'>, message='Circuit has encountered an error.', error_detail=\"<class 'pytket.extensions.quantinuum.backends.api_wrappers.QuantinuumAPIError'>: HTTP error submitting job, {'code': 63, 'message': 'Group does not belong to organization'}\", completed_time=None, queued_time=None, submitted_time=datetime.datetime(2024, 2, 3, 23, 37, 57, 514810, tzinfo=datetime.timezone.utc), running_time=None, cancelled_time=None, error_time=datetime.datetime(2024, 2, 3, 23, 37, 58, 508993, tzinfo=datetime.timezone.utc), queue_position=None)"
      ]
     },
     "execution_count": 124,
     "metadata": {},
     "output_type": "execute_result"
    }
   ],
   "source": [
    "# Get an update on the status\n",
    "backend.circuit_status(handle)"
   ]
  },
  {
   "cell_type": "code",
   "execution_count": 125,
   "id": "d84d8954-adfd-4861-957b-a99adb79f217",
   "metadata": {},
   "outputs": [
    {
     "ename": "ResourceFetchFailed",
     "evalue": "Failed to fetch resource with status code: None, message: Cannot retrieve result; job status is JobStatus(status=<JobStatusEnum.ERROR: 'ERROR'>, message='Circuit has encountered an error.', error_detail=\"<class 'pytket.extensions.quantinuum.backends.api_wrappers.QuantinuumAPIError'>: HTTP error submitting job, {'code': 63, 'message': 'Group does not belong to organization'}\", completed_time=None, queued_time=None, submitted_time=datetime.datetime(2024, 2, 3, 23, 37, 57, 502405, tzinfo=datetime.timezone.utc), running_time=None, cancelled_time=None, error_time=datetime.datetime(2024, 2, 3, 23, 37, 58, 514184, tzinfo=datetime.timezone.utc), queue_position=None)",
     "output_type": "error",
     "traceback": [
      "\u001b[0;31m---------------------------------------------------------------------------\u001b[0m",
      "\u001b[0;31mResourceFetchFailed\u001b[0m                       Traceback (most recent call last)",
      "Cell \u001b[0;32mIn[125], line 2\u001b[0m\n\u001b[1;32m      1\u001b[0m \u001b[38;5;66;03m# If the job is COMPLETED we can then retrieve the result with the handle\u001b[39;00m\n\u001b[0;32m----> 2\u001b[0m result \u001b[38;5;241m=\u001b[39m \u001b[43mbackend\u001b[49m\u001b[38;5;241;43m.\u001b[39;49m\u001b[43mget_result\u001b[49m\u001b[43m(\u001b[49m\u001b[43mhandle\u001b[49m\u001b[43m)\u001b[49m\n\u001b[1;32m      5\u001b[0m result\u001b[38;5;241m.\u001b[39mget_distribution()\n",
      "File \u001b[0;32m/opt/conda/lib/python3.10/site-packages/pytket/extensions/nexus/backends.py:485\u001b[0m, in \u001b[0;36mNexusBackend.get_result\u001b[0;34m(self, handle, **kwargs)\u001b[0m\n\u001b[1;32m    480\u001b[0m     \u001b[38;5;28;01mraise\u001b[39;00m ResourceFetchFailed(\n\u001b[1;32m    481\u001b[0m         \u001b[38;5;124mf\u001b[39m\u001b[38;5;124m\"\u001b[39m\u001b[38;5;124mResult request timed out after waiting \u001b[39m\u001b[38;5;132;01m{\u001b[39;00mtimeout\u001b[38;5;132;01m}\u001b[39;00m\u001b[38;5;124m seconds.\u001b[39m\u001b[38;5;124m\"\u001b[39m\n\u001b[1;32m    482\u001b[0m     ) \u001b[38;5;28;01mfrom\u001b[39;00m \u001b[38;5;21;01mexc\u001b[39;00m\n\u001b[1;32m    484\u001b[0m \u001b[38;5;28;01mif\u001b[39;00m status\u001b[38;5;241m.\u001b[39mstatus \u001b[38;5;129;01mis\u001b[39;00m \u001b[38;5;129;01mnot\u001b[39;00m JobStatusEnum\u001b[38;5;241m.\u001b[39mCOMPLETED:\n\u001b[0;32m--> 485\u001b[0m     \u001b[38;5;28;01mraise\u001b[39;00m ResourceFetchFailed(\u001b[38;5;124mf\u001b[39m\u001b[38;5;124m\"\u001b[39m\u001b[38;5;124mCannot retrieve result; job status is \u001b[39m\u001b[38;5;132;01m{\u001b[39;00mstatus\u001b[38;5;132;01m}\u001b[39;00m\u001b[38;5;124m\"\u001b[39m)\n\u001b[1;32m    487\u001b[0m execute_job_item \u001b[38;5;241m=\u001b[39m \u001b[38;5;28mself\u001b[39m\u001b[38;5;241m.\u001b[39mproject\u001b[38;5;241m.\u001b[39mget_execute_job(job_id\u001b[38;5;241m=\u001b[39mjob_id)\u001b[38;5;241m.\u001b[39mget_job_item(\n\u001b[1;32m    488\u001b[0m     job_item_id\u001b[38;5;241m=\u001b[39mjob_item_id\n\u001b[1;32m    489\u001b[0m )\n\u001b[1;32m    491\u001b[0m result \u001b[38;5;241m=\u001b[39m execute_job_item\u001b[38;5;241m.\u001b[39mresult\n",
      "\u001b[0;31mResourceFetchFailed\u001b[0m: Failed to fetch resource with status code: None, message: Cannot retrieve result; job status is JobStatus(status=<JobStatusEnum.ERROR: 'ERROR'>, message='Circuit has encountered an error.', error_detail=\"<class 'pytket.extensions.quantinuum.backends.api_wrappers.QuantinuumAPIError'>: HTTP error submitting job, {'code': 63, 'message': 'Group does not belong to organization'}\", completed_time=None, queued_time=None, submitted_time=datetime.datetime(2024, 2, 3, 23, 37, 57, 502405, tzinfo=datetime.timezone.utc), running_time=None, cancelled_time=None, error_time=datetime.datetime(2024, 2, 3, 23, 37, 58, 514184, tzinfo=datetime.timezone.utc), queue_position=None)"
     ]
    }
   ],
   "source": [
    "# If the job is COMPLETED we can then retrieve the result with the handle\n",
    "result = backend.get_result(handle)\n",
    "\n",
    "\n",
    "result.get_distribution()"
   ]
  },
  {
   "cell_type": "code",
   "execution_count": null,
   "id": "283ee41c-72cd-4f19-88e0-ea2487513e0c",
   "metadata": {},
   "outputs": [],
   "source": []
  }
 ],
 "metadata": {
  "kernelspec": {
   "display_name": "Python 3 (ipykernel)",
   "language": "python",
   "name": "python3"
  },
  "language_info": {
   "codemirror_mode": {
    "name": "ipython",
    "version": 3
   },
   "file_extension": ".py",
   "mimetype": "text/x-python",
   "name": "python",
   "nbconvert_exporter": "python",
   "pygments_lexer": "ipython3",
   "version": "3.10.10"
  }
 },
 "nbformat": 4,
 "nbformat_minor": 5
}
