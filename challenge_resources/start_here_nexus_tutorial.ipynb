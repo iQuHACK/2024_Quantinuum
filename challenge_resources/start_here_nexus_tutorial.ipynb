{
 "cells": [
  {
   "attachments": {},
   "cell_type": "markdown",
   "id": "637c2589",
   "metadata": {
    "nbsphinx": {
     "execute": "never"
    }
   },
   "source": [
    "# Nexus Quick Start\n",
    "## iQuHACK 2024"
   ]
  },
  {
   "cell_type": "markdown",
   "id": "b33d0004",
   "metadata": {},
   "source": [
    "Welcome to the Quantinuum Nexus Lab! A hosted Jupyter environment with the pre-installed Python software packages you'll need, including:\n",
    "\n",
    "* [`pytket`](https://tket.quantinuum.com/api-docs/index.html): Quantinuum's Python SDK for TKET quantum programming tools.\n",
    "* `pytket-nexus`: the client software for submitting jobs to the Quantinuum Nexus platform\n",
    "\n",
    "You can also open a terminal in the Lab to commit and push your changes to your team's fork of this repository.\n",
    "\n",
    "### Step 1. Enable access to the Quantinuum simulator and emulator\n",
    "\n",
    "We provide two systems for you to target when executing quantum circuits as part of the challenge.\n",
    "\n",
    "* `H1-1LE`: a noiseless simulator of Quantinuum's 20 qubit `H1-1` quantum computer. This system has shorter queuing times, so we recommend using it for most of the challenge.\n",
    "* `H1-1E`: a noisy 'emulator' of `H1-1`. This system is much closer to the actual `H1-1` machine, and has longer queuing times. We recommend only using this system when you need to execute your circuit on something closer to the real hardware.\n",
    "* `H1-1SC`: a 'syntax checker' system for optionally testing things out (it won't run any code but can be used for validation of your usage of the API). \n",
    "\n",
    "In order to access these systems, you'll need to activate your access:\n",
    "\n",
    "* Visit https://nexus.quantinuum.com/backends/quantinuum and enter your username and password credentials by selecting 'Configure'.\n",
    "* You'll know if this succeeds as your available Quantinuum devices will be displayed below. The `H1-1LE` simulator is very new and might not be displayed, so don't worry if it doesn't show up.\n",
    "\n",
    "\n",
    "### Step 2: Try out the example code below to compile and simulate your first circuit.\n",
    "\n",
    "- Copy this file or its contents into the Quantinuum Nexus hub and run the code below to see some example usage.\n"
   ]
  },
  {
   "cell_type": "markdown",
   "id": "8568469f",
   "metadata": {},
   "source": [
    "## Lets compose a quantum circuit using Pytket\n",
    "\n",
    "Nexus uses [pytket Circuits](https://cqcl.github.io/pytket/manual/manual_circuit.html). Here we'll create a simple one."
   ]
  },
  {
   "cell_type": "code",
   "execution_count": 1,
   "id": "fa8e85be",
   "metadata": {},
   "outputs": [
    {
     "data": {
      "text/html": [
       "\n",
       "\n",
       "\n",
       "\n",
       "\n",
       "\n",
       "<div style=\"resize: vertical; overflow: auto; height: 400px; display: block\">\n",
       "    <iframe srcdoc=\"\n",
       "&lt;!DOCTYPE html&gt;\n",
       "&lt;html lang=&#34;en&#34;&gt;\n",
       "&lt;head&gt;\n",
       "    &lt;meta charset=&#34;UTF-8&#34;&gt;\n",
       "    &lt;!-- Download Vue 3--&gt;\n",
       "&lt;script type=&#34;application/javascript&#34; src=&#34;https://cdn.jsdelivr.net/npm/vue@3&#34;&gt;&lt;/script&gt;\n",
       "&lt;!-- Download Circuit Renderer with styles --&gt;\n",
       "&lt;script type=&#34;application/javascript&#34; src=&#34;https://unpkg.com/pytket-circuit-renderer@0.7/dist/pytket-circuit-renderer.umd.js&#34;&gt;&lt;/script&gt;\n",
       "&lt;link rel=&#34;stylesheet&#34; href=&#34;https://unpkg.com/pytket-circuit-renderer@0.7/dist/pytket-circuit-renderer.css&#34;&gt;\n",
       "&lt;/head&gt;\n",
       "&lt;body&gt;\n",
       "\n",
       "\n",
       "\n",

       "    &lt;div id=&#34;circuit-display-vue-container-1c634e3f-fa96-4da2-8800-48fc2784b184&#34; class=&#34;pytket-circuit-display-container&#34;&gt;\n",

       "        &lt;div style=&#34;display: none&#34;&gt;\n",
       "            &lt;div id=&#34;circuit-json-to-display&#34;&gt;{&#34;bits&#34;: [[&#34;c&#34;, [0]], [&#34;c&#34;, [1]], [&#34;c&#34;, [2]], [&#34;c&#34;, [3]]], &#34;commands&#34;: [{&#34;args&#34;: [[&#34;q&#34;, [0]]], &#34;op&#34;: {&#34;type&#34;: &#34;H&#34;}}, {&#34;args&#34;: [[&#34;q&#34;, [3]]], &#34;op&#34;: {&#34;type&#34;: &#34;H&#34;}}, {&#34;args&#34;: [[&#34;q&#34;, [0]], [&#34;q&#34;, [1]]], &#34;op&#34;: {&#34;type&#34;: &#34;CX&#34;}}, {&#34;args&#34;: [[&#34;q&#34;, [0]], [&#34;c&#34;, [0]]], &#34;op&#34;: {&#34;type&#34;: &#34;Measure&#34;}}, {&#34;args&#34;: [[&#34;q&#34;, [1]]], &#34;op&#34;: {&#34;type&#34;: &#34;H&#34;}}, {&#34;args&#34;: [[&#34;q&#34;, [1]], [&#34;q&#34;, [2]]], &#34;op&#34;: {&#34;type&#34;: &#34;CX&#34;}}, {&#34;args&#34;: [[&#34;q&#34;, [1]], [&#34;c&#34;, [1]]], &#34;op&#34;: {&#34;type&#34;: &#34;Measure&#34;}}, {&#34;args&#34;: [[&#34;q&#34;, [2]], [&#34;q&#34;, [3]]], &#34;op&#34;: {&#34;type&#34;: &#34;CX&#34;}}, {&#34;args&#34;: [[&#34;q&#34;, [2]], [&#34;c&#34;, [2]]], &#34;op&#34;: {&#34;type&#34;: &#34;Measure&#34;}}, {&#34;args&#34;: [[&#34;q&#34;, [3]], [&#34;c&#34;, [3]]], &#34;op&#34;: {&#34;type&#34;: &#34;Measure&#34;}}], &#34;created_qubits&#34;: [], &#34;discarded_qubits&#34;: [], &#34;implicit_permutation&#34;: [[[&#34;q&#34;, [0]], [&#34;q&#34;, [0]]], [[&#34;q&#34;, [1]], [&#34;q&#34;, [1]]], [[&#34;q&#34;, [2]], [&#34;q&#34;, [2]]], [[&#34;q&#34;, [3]], [&#34;q&#34;, [3]]]], &#34;name&#34;: &#34;my-first-circuit&#34;, &#34;phase&#34;: &#34;0.0&#34;, &#34;qubits&#34;: [[&#34;q&#34;, [0]], [&#34;q&#34;, [1]], [&#34;q&#34;, [2]], [&#34;q&#34;, [3]]]}&lt;/div&gt;\n",
       "        &lt;/div&gt;\n",
       "        &lt;circuit-display-container\n",
       "                :circuit-element-str=&#34;&#39;#circuit-json-to-display&#39;&#34;\n",
       "                :init-render-options=&#34;initRenderOptions&#34;\n",
       "        &gt;&lt;/circuit-display-container&gt;\n",
       "    &lt;/div&gt;\n",
       "    &lt;script type=&#34;application/javascript&#34;&gt;\n",

       "      const circuitRendererUid = &#34;1c634e3f-fa96-4da2-8800-48fc2784b184&#34;;\n",

       "      const displayOptions = JSON.parse(&#39;{}&#39;);\n",
       "\n",
       "      // Script to initialise the circuit renderer app\n",
       "\n",
       "const { createApp } = Vue;\n",
       "const circuitDisplayContainer = window[&#34;pytket-circuit-renderer&#34;].default;\n",
       "// Init variables to be shared between circuit display instances\n",
       "if (typeof window.pytketCircuitDisplays === &#34;undefined&#34;) {\n",
       "    window.pytketCircuitDisplays = {};\n",
       "}\n",
       "// Create the root Vue component\n",
       "const app = createApp({\n",
       "    delimiters: [&#39;[[#&#39;, &#39;#]]&#39;],\n",
       "    components: { circuitDisplayContainer },\n",
       "    data () {\n",
       "      return {\n",
       "        initRenderOptions: displayOptions,\n",
       "      }\n",
       "    }\n",
       "})\n",
       "app.config.unwrapInjectedRef = true;\n",
       "app.mount(&#34;#circuit-display-vue-container-&#34;+circuitRendererUid);\n",
       "window.pytketCircuitDisplays[circuitRendererUid] = app;\n",
       "    &lt;/script&gt;\n",
       "\n",
       "\n",
       "\n",
       "&lt;/body&gt;\n",
       "&lt;/html&gt;\n",
       "\"\n",
       "            width=\"100%\" height=\"100%\"\n",
       "            style=\"border: none; outline: none; overflow: auto\"></iframe>\n",
       "</div>\n",
       "\n"
      ],
      "text/plain": [
       "<IPython.core.display.HTML object>"
      ]
     },
     "metadata": {},
     "output_type": "display_data"
    }
   ],
   "source": [
    "from pytket import Circuit\n",
    "from pytket.circuit.display import render_circuit_jupyter\n",
    "\n",
    "my_circuit = Circuit(4,4).H(0).CX(0, 1).H(1).CX(1,2).H(3).CX(2,3)\n",
    "my_circuit.measure_all()\n",
    "\n",
    "my_circuit.name = \"my-first-circuit\"\n",
    "\n",
    "render_circuit_jupyter(my_circuit)"
   ]
  },
  {
   "cell_type": "markdown",
   "id": "announced-viewer",
   "metadata": {},
   "source": [
    "### Create a Nexus Project\n",
    "\n",
    "A project is a way to compartmentalize your running jobs and data, allowing you to retrieve and share data easily."
   ]
  },
  {
   "cell_type": "code",
   "execution_count": 2,
   "id": "cdf45ead",
   "metadata": {},
   "outputs": [
    {
     "name": "stdout",
     "output_type": "stream",
     "text": [
      "\n",

      "New project created: Nexus iQuHack tutorial project! - 2024-02-03 16:15:50.250396\n"

     ]
    }
   ],
   "source": [
    "from pytket.extensions.nexus import Nexus\n",
    "from datetime import datetime\n",
    "\n",
    "nexus = Nexus()\n",
    "my_project = nexus.new_project(name=f\"Nexus iQuHack tutorial project! - {datetime.now()}\")"
   ]
  },
  {
   "cell_type": "markdown",
   "id": "f8e81f3e",
   "metadata": {},
   "source": [
    "You should be able to see this project if you visit [https://nexus.quantinuum.com/projects/all](https://nexus.quantinuum.com/projects/all)"
   ]
  },
  {
   "attachments": {},
   "cell_type": "markdown",
   "id": "15a83542",
   "metadata": {},
   "source": [
    "### Set up your Backend Configuration\n",
    "\n",
    "In Quantinuum Nexus, we use `BackendConfig`s to specify the details of the quantum system we want to target.\n",
    "\n",
    "\n",
    "For this example, we'll use ``QuantinuumConfig``, to configure Nexus to target a simulator for Quantinuum's `H1-1LE` device. \n",
    "\n",
    "We'll pass in the `device_name` and also `user_group=\"iQuHACK_2024\"` to identify jobs as part of iQuHack 2024."
   ]
  },
  {
   "cell_type": "code",

   "execution_count": 6,

   "id": "abc8440f",
   "metadata": {},
   "outputs": [],
   "source": [
    "from pytket.extensions.nexus import QuantinuumConfig\n",
    "\n",
    "\n",
    "configuration = QuantinuumConfig(device_name=\"H1-1LE\", user_group=\"iQuHACK_2024\")"
   ]
  },
  {
   "cell_type": "markdown",
   "id": "d5c75fa3",
   "metadata": {},
   "source": [
    "## Set up a NexusBackend\n",
    "\n",
    "The `Backend` object presents an interface to run jobs on Nexus."
   ]
  },
  {
   "cell_type": "code",
   "execution_count": 4,
   "id": "815773d9",
   "metadata": {},
   "outputs": [
    {
     "name": "stdout",
     "output_type": "stream",
     "text": [
      "\n",
      "Started using project with name: Nexus iQuHack tutorial project! - 2024-02-03 16:15:50.250396\n"
     ]
    }
   ],
   "source": [
    "from pytket.extensions.nexus import NexusBackend\n",
    "\n",
    "# Then we'll create a NexusBackend using our config and the project we created\n",
    "backend = NexusBackend(configuration, project=my_project)"
   ]
  },
  {
   "cell_type": "markdown",
   "id": "7d6705bb",
   "metadata": {},
   "source": [
    "### Compile the circuit\n",
    "\n",
    "Nexus offers compilation with the TKET quantum compiler, this is an easy way to:\n",
    "\n",
    "* Optimize the circuit\n",
    "* Convert it to run on a specific quantum device, which might not support all quantum gates.\n",
    "\n",
    "For the challenge you can use pytket directly to compile circuits, or you can get Nexus to do the compilation for you. If you'd like to disable any changes to your circuit other than making sure that the gateset is correct, you can always set `optimisation_level=0`."
   ]
  },
  {
   "cell_type": "code",

   "execution_count": 5,

   "id": "2e954153",
   "metadata": {},
   "outputs": [],
   "source": [
    "# Compile the circuit in Nexus\n",
    "compiled_circuit = backend.get_compiled_circuit(my_circuit, optimisation_level=2)"
   ]
  },
  {
   "cell_type": "markdown",
   "id": "eedb2e5f",
   "metadata": {},
   "source": [
    "You should now see the `Compile Job` show up when you click on your project on [https://nexus.quantinuum.com/projects/all](https://nexus.quantinuum.com/projects/all).\n",
    "\n",
    "If you're curious to see what the compiler did, you can click on the job results and see all the passes the compiler performed on your circuit. "
   ]
  },
  {
   "cell_type": "markdown",
   "id": "5216cf39",
   "metadata": {},
   "source": [
    "### Submit the circuit for execution\n",
    "\n",
    "Nexus will take care of submitting the circuit to your chosen device and storing the results when it has executed.\n",
    "\n",
    "In this case we are executing the circuit on a simulator running in the Nexus cluster so we should get the results back quickly, however many quantum devices have lengthy queues in which case Nexus will track the job and retrieve the results when they are ready."
   ]
  },
  {
   "cell_type": "code",
   "execution_count": 7,
   "id": "opened-hobby",
   "metadata": {},
   "outputs": [
    {
     "name": "stdout",
     "output_type": "stream",
     "text": [
      "('41dc1a48-9197-4d72-aadb-82515ca47307', 1867776)\n"
     ]
    }
   ],
   "source": [
    "# Run the compiled circuit for 10 shots\n",
    "handle = backend.process_circuit(compiled_circuit, n_shots=10)\n",
    "\n",
    "\n",
    "# This will give you a ResultHandle\n",
    "# As with other pytket-backends, a ResultHandle identifies a particular run of the circuit, which you can then use to keep track of the job status.\n",
    "print(handle)"
   ]
  },
  {
   "cell_type": "code",
   "execution_count": 8,
   "id": "overhead-thirty",
   "metadata": {},
   "outputs": [
    {
     "data": {
      "text/plain": [
       "CircuitStatus(status=<StatusEnum.COMPLETED: 'Circuit has completed. Results are ready.'>, message='Circuit has completed.', error_detail=None, completed_time=datetime.datetime(2024, 2, 3, 16, 17, 0, 201858, tzinfo=datetime.timezone.utc), queued_time=None, submitted_time=datetime.datetime(2024, 2, 3, 16, 16, 59, 621366, tzinfo=datetime.timezone.utc), running_time=None, cancelled_time=None, error_time=None, queue_position=None)"
      ]
     },
     "execution_count": 8,
     "metadata": {},
     "output_type": "execute_result"
    }
   ],
   "source": [
    "# Get an update on the status\n",
    "backend.circuit_status(handle)"
   ]
  },
  {
   "cell_type": "code",
   "execution_count": 9,
   "id": "39a75fbd",
   "metadata": {},
   "outputs": [
    {
     "data": {
      "text/plain": [
       "{(0, 0, 0, 0): 0.3,\n",
       " (0, 0, 0, 1): 0.2,\n",
       " (0, 1, 1, 0): 0.1,\n",
       " (1, 0, 0, 0): 0.2,\n",
       " (1, 1, 1, 0): 0.1,\n",
       " (1, 1, 1, 1): 0.1}"
      ]
     },
     "execution_count": 9,
     "metadata": {},
     "output_type": "execute_result"
    }
   ],
   "source": [
    "# If the job is COMPLETED we can then retrieve the result with the handle\n",
    "result = backend.get_result(handle)\n",
    "\n",
    "\n",
    "result.get_distribution()"
   ]
  },
  {
   "cell_type": "markdown",
   "id": "ce945166",
   "metadata": {},
   "source": [
    "You can also view the job from the project page on the Quantinuum Nexus website and check out the results there.\n",
    "\n",
    "\n",
    "### Next steps:\n",
    "\n",
    "Use the website to:\n",
    "- make a `Team` on the Nexus website and add your hackathon team members.\n",
    "- give this `Team` access to the Nexus `Project` you just created."
   ]
  }
 ],
 "metadata": {
  "kernelspec": {
   "display_name": "Python 3 (ipykernel)",
   "language": "python",
   "name": "python3"
  },
  "language_info": {
   "codemirror_mode": {
    "name": "ipython",
    "version": 3
   },
   "file_extension": ".py",
   "mimetype": "text/x-python",
   "name": "python",
   "nbconvert_exporter": "python",
   "pygments_lexer": "ipython3",
   "version": "3.10.10"
  },
  "vscode": {
   "interpreter": {
    "hash": "f43baf218a87c34b36d0e78bf5bbda01518be954b242b9492c4c47b42fef4ee3"
   }
  },
  "widgets": {
   "application/vnd.jupyter.widget-state+json": {
    "state": {},
    "version_major": 2,
    "version_minor": 0
   }
  }
 },
 "nbformat": 4,
 "nbformat_minor": 5
}
