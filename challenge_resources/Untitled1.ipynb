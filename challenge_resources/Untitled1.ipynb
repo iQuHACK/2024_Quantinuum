{
 "cells": [
  {
   "cell_type": "code",
   "execution_count": 7,
   "id": "551b4aed-1d4b-40cb-8096-23de59354e7e",
   "metadata": {},
   "outputs": [
    {
     "name": "stdout",
     "output_type": "stream",
     "text": [
      "set ()\n",
      "0\n",
      "set (1,)\n",
      "1\n",
      "set (2,)\n",
      "2\n",
      "set (1, 2)\n",
      "3\n"
     ]
    }
   ],
   "source": [
    "from itertools import chain, combinations\n",
    "\n",
    "def powerset(iterable):\n",
    "    \"powerset([1,2,3]) --> () (1,) (2,) (3,) (1,2) (1,3) (2,3) (1,2,3)\"\n",
    "    s = list(iterable)\n",
    "    return chain.from_iterable(combinations(s, r) for r in range(len(s)+1))\n",
    "result = list(powerset([1,2]))\n",
    "\n",
    "for set in result:\n",
    "    print('set', set)\n",
    "    print(sum(set))"
   ]
  },
  {
   "cell_type": "code",
   "execution_count": 2,
   "id": "bee386dc-6f3d-459f-a82f-0188e0b04258",
   "metadata": {},
   "outputs": [
    {
     "ename": "NameError",
     "evalue": "name 'powerset' is not defined",
     "output_type": "error",
     "traceback": [
      "\u001b[0;31m---------------------------------------------------------------------------\u001b[0m",
      "\u001b[0;31mNameError\u001b[0m                                 Traceback (most recent call last)",
      "Cell \u001b[0;32mIn[2], line 1\u001b[0m\n\u001b[0;32m----> 1\u001b[0m \u001b[43mpowerset\u001b[49m([\u001b[38;5;241m1\u001b[39m,\u001b[38;5;241m2\u001b[39m,\u001b[38;5;241m3\u001b[39m,\u001b[38;5;241m4\u001b[39m,\u001b[38;5;241m5\u001b[39m])\n",
      "\u001b[0;31mNameError\u001b[0m: name 'powerset' is not defined"
     ]
    }
   ],
   "source": [
    "\n"
   ]
  },
  {
   "cell_type": "code",
   "execution_count": null,
   "id": "ca3d48c1-df2c-4b87-a220-d1262bfce6bd",
   "metadata": {},
   "outputs": [],
   "source": []
  }
 ],
 "metadata": {
  "kernelspec": {
   "display_name": "Python 3 (ipykernel)",
   "language": "python",
   "name": "python3"
  },
  "language_info": {
   "codemirror_mode": {
    "name": "ipython",
    "version": 3
   },
   "file_extension": ".py",
   "mimetype": "text/x-python",
   "name": "python",
   "nbconvert_exporter": "python",
   "pygments_lexer": "ipython3",
   "version": "3.10.10"
  }
 },
 "nbformat": 4,
 "nbformat_minor": 5
}
