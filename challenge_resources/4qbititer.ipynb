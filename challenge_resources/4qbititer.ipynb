{
 "cells": [
  {
   "cell_type": "raw",
   "id": "922668e6-5009-430a-9791-db51743c17d1",
   "metadata": {},
   "source": [
    "Choose your unitary operator"
   ]
  },
  {
   "cell_type": "code",
   "execution_count": 13,
   "id": "c89dd514-1c00-40d6-8e61-5d7e0d3f89b1",
   "metadata": {},
   "outputs": [],
   "source": [
    "from pytket.circuit import Circuit, Unitary1qBox, Unitary2qBox\n",
    "import numpy as np\n",
    "from pytket.circuit import OpType\n",
    "\n",
    "# u1 = np.asarray([[1, 0],\n",
    "#                  [0, 1]])\n",
    "# u1box = Unitary1qBox(u1)\n",
    "\n",
    "input_angle = 0.73  # angle as number of half turns\n",
    "unitary_circuit = Circuit(1).U1(input_angle, 0)  # Base unitary for controlled U ops"
   ]
  },
  {
   "cell_type": "code",
   "execution_count": 14,
   "id": "60753632-9e03-4e51-be03-12e1423dcd87",
   "metadata": {},
   "outputs": [],
   "source": [
    "from pytket.circuit import Op\n",
    "\n",
    "\n",
    "base_u1 = Op.create(OpType.U1, [0.5])"
   ]
  },
  {
   "cell_type": "code",
   "execution_count": 15,
   "id": "8fff4b78-1ee6-4cb2-8bf1-12556d0dc3e5",
   "metadata": {},
   "outputs": [],
   "source": [
    "from pytket.circuit import QControlBox\n",
    "from pytket.circuit import CircBox\n",
    "\n",
    "controlled_u1 = QControlBox(CircBox(unitary_circuit), n=2)"
   ]
  },
  {
   "cell_type": "code",
   "execution_count": 16,
   "id": "5619fc4d-4bf7-43cb-8747-bff1a7031bde",
   "metadata": {},
   "outputs": [],
   "source": [
    "from pytket.pauli import PauliStabiliser\n",
    "from pytket.pauli import Pauli\n",
    "\n",
    "phase_stabilise_z = PauliStabiliser([Pauli.Z], 1)\n"
   ]
  },
  {
   "cell_type": "code",
   "execution_count": 35,
   "id": "5d492625-cddf-4788-9dd5-305eaca4038d",
   "metadata": {},
   "outputs": [
    {
     "data": {
      "text/html": [
       "\n",
       "\n",
       "\n",
       "\n",
       "\n",
       "\n",
       "<div style=\"resize: vertical; overflow: auto; height: 400px; display: block\">\n",
       "    <iframe srcdoc=\"\n",
       "&lt;!DOCTYPE html&gt;\n",
       "&lt;html lang=&#34;en&#34;&gt;\n",
       "&lt;head&gt;\n",
       "    &lt;meta charset=&#34;UTF-8&#34;&gt;\n",
       "    &lt;!-- Download Vue 3--&gt;\n",
       "&lt;script type=&#34;application/javascript&#34; src=&#34;https://cdn.jsdelivr.net/npm/vue@3&#34;&gt;&lt;/script&gt;\n",
       "&lt;!-- Download Circuit Renderer with styles --&gt;\n",
       "&lt;script type=&#34;application/javascript&#34; src=&#34;https://unpkg.com/pytket-circuit-renderer@0.7/dist/pytket-circuit-renderer.umd.js&#34;&gt;&lt;/script&gt;\n",
       "&lt;link rel=&#34;stylesheet&#34; href=&#34;https://unpkg.com/pytket-circuit-renderer@0.7/dist/pytket-circuit-renderer.css&#34;&gt;\n",
       "&lt;/head&gt;\n",
       "&lt;body&gt;\n",
       "\n",
       "\n",
       "\n",
       "    &lt;div id=&#34;circuit-display-vue-container-aae853d9-0c33-4b66-aea1-d135198f7ee7&#34; class=&#34;pytket-circuit-display-container&#34;&gt;\n",
       "        &lt;div style=&#34;display: none&#34;&gt;\n",
       "            &lt;div id=&#34;circuit-json-to-display&#34;&gt;{&#34;bits&#34;: [[&#34;c&#34;, [0]], [&#34;c&#34;, [1]], [&#34;c&#34;, [2]], [&#34;c&#34;, [3]]], &#34;commands&#34;: [{&#34;args&#34;: [[&#34;q&#34;, [0]]], &#34;op&#34;: {&#34;type&#34;: &#34;H&#34;}}, {&#34;args&#34;: [[&#34;q&#34;, [1]]], &#34;op&#34;: {&#34;type&#34;: &#34;X&#34;}}, {&#34;args&#34;: [[&#34;q&#34;, [2]]], &#34;op&#34;: {&#34;type&#34;: &#34;X&#34;}}, {&#34;args&#34;: [[&#34;q&#34;, [3]]], &#34;op&#34;: {&#34;type&#34;: &#34;X&#34;}}, {&#34;args&#34;: [[&#34;q&#34;, [0]], [&#34;q&#34;, [1]], [&#34;q&#34;, [3]]], &#34;op&#34;: {&#34;box&#34;: {&#34;control_state&#34;: 3, &#34;id&#34;: &#34;f401fa7c-ba9f-4e4d-b1fb-fa0329733dd4&#34;, &#34;n_controls&#34;: 2, &#34;op&#34;: {&#34;box&#34;: {&#34;circuit&#34;: {&#34;bits&#34;: [], &#34;commands&#34;: [{&#34;args&#34;: [[&#34;q&#34;, [0]]], &#34;op&#34;: {&#34;params&#34;: [&#34;0.73&#34;], &#34;type&#34;: &#34;U1&#34;}}], &#34;created_qubits&#34;: [], &#34;discarded_qubits&#34;: [], &#34;implicit_permutation&#34;: [[[&#34;q&#34;, [0]], [&#34;q&#34;, [0]]]], &#34;phase&#34;: &#34;0.0&#34;, &#34;qubits&#34;: [[&#34;q&#34;, [0]]]}, &#34;id&#34;: &#34;efc93c72-ef3a-4285-bd9a-18dc5d054dfd&#34;, &#34;type&#34;: &#34;CircBox&#34;}, &#34;type&#34;: &#34;CircBox&#34;}, &#34;type&#34;: &#34;QControlBox&#34;}, &#34;type&#34;: &#34;QControlBox&#34;}}, {&#34;args&#34;: [[&#34;q&#34;, [0]], [&#34;q&#34;, [1]], [&#34;q&#34;, [3]]], &#34;op&#34;: {&#34;box&#34;: {&#34;control_state&#34;: 3, &#34;id&#34;: &#34;f401fa7c-ba9f-4e4d-b1fb-fa0329733dd4&#34;, &#34;n_controls&#34;: 2, &#34;op&#34;: {&#34;box&#34;: {&#34;circuit&#34;: {&#34;bits&#34;: [], &#34;commands&#34;: [{&#34;args&#34;: [[&#34;q&#34;, [0]]], &#34;op&#34;: {&#34;params&#34;: [&#34;0.73&#34;], &#34;type&#34;: &#34;U1&#34;}}], &#34;created_qubits&#34;: [], &#34;discarded_qubits&#34;: [], &#34;implicit_permutation&#34;: [[[&#34;q&#34;, [0]], [&#34;q&#34;, [0]]]], &#34;phase&#34;: &#34;0.0&#34;, &#34;qubits&#34;: [[&#34;q&#34;, [0]]]}, &#34;id&#34;: &#34;efc93c72-ef3a-4285-bd9a-18dc5d054dfd&#34;, &#34;type&#34;: &#34;CircBox&#34;}, &#34;type&#34;: &#34;CircBox&#34;}, &#34;type&#34;: &#34;QControlBox&#34;}, &#34;type&#34;: &#34;QControlBox&#34;}}, {&#34;args&#34;: [[&#34;q&#34;, [0]], [&#34;q&#34;, [1]], [&#34;q&#34;, [3]]], &#34;op&#34;: {&#34;box&#34;: {&#34;control_state&#34;: 3, &#34;id&#34;: &#34;f401fa7c-ba9f-4e4d-b1fb-fa0329733dd4&#34;, &#34;n_controls&#34;: 2, &#34;op&#34;: {&#34;box&#34;: {&#34;circuit&#34;: {&#34;bits&#34;: [], &#34;commands&#34;: [{&#34;args&#34;: [[&#34;q&#34;, [0]]], &#34;op&#34;: {&#34;params&#34;: [&#34;0.73&#34;], &#34;type&#34;: &#34;U1&#34;}}], &#34;created_qubits&#34;: [], &#34;discarded_qubits&#34;: [], &#34;implicit_permutation&#34;: [[[&#34;q&#34;, [0]], [&#34;q&#34;, [0]]]], &#34;phase&#34;: &#34;0.0&#34;, &#34;qubits&#34;: [[&#34;q&#34;, [0]]]}, &#34;id&#34;: &#34;efc93c72-ef3a-4285-bd9a-18dc5d054dfd&#34;, &#34;type&#34;: &#34;CircBox&#34;}, &#34;type&#34;: &#34;CircBox&#34;}, &#34;type&#34;: &#34;QControlBox&#34;}, &#34;type&#34;: &#34;QControlBox&#34;}}, {&#34;args&#34;: [[&#34;q&#34;, [0]], [&#34;q&#34;, [1]], [&#34;q&#34;, [3]]], &#34;op&#34;: {&#34;box&#34;: {&#34;control_state&#34;: 3, &#34;id&#34;: &#34;f401fa7c-ba9f-4e4d-b1fb-fa0329733dd4&#34;, &#34;n_controls&#34;: 2, &#34;op&#34;: {&#34;box&#34;: {&#34;circuit&#34;: {&#34;bits&#34;: [], &#34;commands&#34;: [{&#34;args&#34;: [[&#34;q&#34;, [0]]], &#34;op&#34;: {&#34;params&#34;: [&#34;0.73&#34;], &#34;type&#34;: &#34;U1&#34;}}], &#34;created_qubits&#34;: [], &#34;discarded_qubits&#34;: [], &#34;implicit_permutation&#34;: [[[&#34;q&#34;, [0]], [&#34;q&#34;, [0]]]], &#34;phase&#34;: &#34;0.0&#34;, &#34;qubits&#34;: [[&#34;q&#34;, [0]]]}, &#34;id&#34;: &#34;efc93c72-ef3a-4285-bd9a-18dc5d054dfd&#34;, &#34;type&#34;: &#34;CircBox&#34;}, &#34;type&#34;: &#34;CircBox&#34;}, &#34;type&#34;: &#34;QControlBox&#34;}, &#34;type&#34;: &#34;QControlBox&#34;}}, {&#34;args&#34;: [[&#34;q&#34;, [0]]], &#34;op&#34;: {&#34;type&#34;: &#34;H&#34;}}, {&#34;args&#34;: [[&#34;q&#34;, [0]], [&#34;c&#34;, [0]]], &#34;op&#34;: {&#34;type&#34;: &#34;Measure&#34;}}, {&#34;args&#34;: [[&#34;q&#34;, [0]]], &#34;op&#34;: {&#34;type&#34;: &#34;Reset&#34;}}, {&#34;args&#34;: [[&#34;q&#34;, [0]]], &#34;op&#34;: {&#34;type&#34;: &#34;H&#34;}}, {&#34;args&#34;: [[&#34;c&#34;, [0]], [&#34;q&#34;, [0]]], &#34;op&#34;: {&#34;conditional&#34;: {&#34;op&#34;: {&#34;params&#34;: [&#34;-0.5&#34;], &#34;type&#34;: &#34;Rz&#34;}, &#34;value&#34;: 1, &#34;width&#34;: 1}, &#34;type&#34;: &#34;Conditional&#34;}}, {&#34;args&#34;: [[&#34;q&#34;, [0]], [&#34;q&#34;, [1]], [&#34;q&#34;, [3]]], &#34;op&#34;: {&#34;box&#34;: {&#34;control_state&#34;: 3, &#34;id&#34;: &#34;f401fa7c-ba9f-4e4d-b1fb-fa0329733dd4&#34;, &#34;n_controls&#34;: 2, &#34;op&#34;: {&#34;box&#34;: {&#34;circuit&#34;: {&#34;bits&#34;: [], &#34;commands&#34;: [{&#34;args&#34;: [[&#34;q&#34;, [0]]], &#34;op&#34;: {&#34;params&#34;: [&#34;0.73&#34;], &#34;type&#34;: &#34;U1&#34;}}], &#34;created_qubits&#34;: [], &#34;discarded_qubits&#34;: [], &#34;implicit_permutation&#34;: [[[&#34;q&#34;, [0]], [&#34;q&#34;, [0]]]], &#34;phase&#34;: &#34;0.0&#34;, &#34;qubits&#34;: [[&#34;q&#34;, [0]]]}, &#34;id&#34;: &#34;efc93c72-ef3a-4285-bd9a-18dc5d054dfd&#34;, &#34;type&#34;: &#34;CircBox&#34;}, &#34;type&#34;: &#34;CircBox&#34;}, &#34;type&#34;: &#34;QControlBox&#34;}, &#34;type&#34;: &#34;QControlBox&#34;}}, {&#34;args&#34;: [[&#34;q&#34;, [0]], [&#34;q&#34;, [1]], [&#34;q&#34;, [3]]], &#34;op&#34;: {&#34;box&#34;: {&#34;control_state&#34;: 3, &#34;id&#34;: &#34;f401fa7c-ba9f-4e4d-b1fb-fa0329733dd4&#34;, &#34;n_controls&#34;: 2, &#34;op&#34;: {&#34;box&#34;: {&#34;circuit&#34;: {&#34;bits&#34;: [], &#34;commands&#34;: [{&#34;args&#34;: [[&#34;q&#34;, [0]]], &#34;op&#34;: {&#34;params&#34;: [&#34;0.73&#34;], &#34;type&#34;: &#34;U1&#34;}}], &#34;created_qubits&#34;: [], &#34;discarded_qubits&#34;: [], &#34;implicit_permutation&#34;: [[[&#34;q&#34;, [0]], [&#34;q&#34;, [0]]]], &#34;phase&#34;: &#34;0.0&#34;, &#34;qubits&#34;: [[&#34;q&#34;, [0]]]}, &#34;id&#34;: &#34;efc93c72-ef3a-4285-bd9a-18dc5d054dfd&#34;, &#34;type&#34;: &#34;CircBox&#34;}, &#34;type&#34;: &#34;CircBox&#34;}, &#34;type&#34;: &#34;QControlBox&#34;}, &#34;type&#34;: &#34;QControlBox&#34;}}, {&#34;args&#34;: [[&#34;q&#34;, [0]]], &#34;op&#34;: {&#34;type&#34;: &#34;H&#34;}}, {&#34;args&#34;: [[&#34;q&#34;, [0]], [&#34;c&#34;, [1]]], &#34;op&#34;: {&#34;type&#34;: &#34;Measure&#34;}}, {&#34;args&#34;: [[&#34;q&#34;, [0]]], &#34;op&#34;: {&#34;type&#34;: &#34;Reset&#34;}}, {&#34;args&#34;: [[&#34;q&#34;, [0]]], &#34;op&#34;: {&#34;type&#34;: &#34;H&#34;}}, {&#34;args&#34;: [[&#34;c&#34;, [0]], [&#34;q&#34;, [0]]], &#34;op&#34;: {&#34;conditional&#34;: {&#34;op&#34;: {&#34;params&#34;: [&#34;-0.25&#34;], &#34;type&#34;: &#34;Rz&#34;}, &#34;value&#34;: 1, &#34;width&#34;: 1}, &#34;type&#34;: &#34;Conditional&#34;}}, {&#34;args&#34;: [[&#34;c&#34;, [1]], [&#34;q&#34;, [0]]], &#34;op&#34;: {&#34;conditional&#34;: {&#34;op&#34;: {&#34;params&#34;: [&#34;-0.5&#34;], &#34;type&#34;: &#34;Rz&#34;}, &#34;value&#34;: 1, &#34;width&#34;: 1}, &#34;type&#34;: &#34;Conditional&#34;}}, {&#34;args&#34;: [[&#34;c&#34;, [2]], [&#34;q&#34;, [0]]], &#34;op&#34;: {&#34;conditional&#34;: {&#34;op&#34;: {&#34;params&#34;: [&#34;-0.75&#34;], &#34;type&#34;: &#34;Rz&#34;}, &#34;value&#34;: 1, &#34;width&#34;: 1}, &#34;type&#34;: &#34;Conditional&#34;}}, {&#34;args&#34;: [[&#34;q&#34;, [0]], [&#34;q&#34;, [1]], [&#34;q&#34;, [3]]], &#34;op&#34;: {&#34;box&#34;: {&#34;control_state&#34;: 3, &#34;id&#34;: &#34;f401fa7c-ba9f-4e4d-b1fb-fa0329733dd4&#34;, &#34;n_controls&#34;: 2, &#34;op&#34;: {&#34;box&#34;: {&#34;circuit&#34;: {&#34;bits&#34;: [], &#34;commands&#34;: [{&#34;args&#34;: [[&#34;q&#34;, [0]]], &#34;op&#34;: {&#34;params&#34;: [&#34;0.73&#34;], &#34;type&#34;: &#34;U1&#34;}}], &#34;created_qubits&#34;: [], &#34;discarded_qubits&#34;: [], &#34;implicit_permutation&#34;: [[[&#34;q&#34;, [0]], [&#34;q&#34;, [0]]]], &#34;phase&#34;: &#34;0.0&#34;, &#34;qubits&#34;: [[&#34;q&#34;, [0]]]}, &#34;id&#34;: &#34;efc93c72-ef3a-4285-bd9a-18dc5d054dfd&#34;, &#34;type&#34;: &#34;CircBox&#34;}, &#34;type&#34;: &#34;CircBox&#34;}, &#34;type&#34;: &#34;QControlBox&#34;}, &#34;type&#34;: &#34;QControlBox&#34;}}, {&#34;args&#34;: [[&#34;q&#34;, [0]], [&#34;q&#34;, [1]], [&#34;q&#34;, [3]]], &#34;op&#34;: {&#34;box&#34;: {&#34;control_state&#34;: 3, &#34;id&#34;: &#34;f401fa7c-ba9f-4e4d-b1fb-fa0329733dd4&#34;, &#34;n_controls&#34;: 2, &#34;op&#34;: {&#34;box&#34;: {&#34;circuit&#34;: {&#34;bits&#34;: [], &#34;commands&#34;: [{&#34;args&#34;: [[&#34;q&#34;, [0]]], &#34;op&#34;: {&#34;params&#34;: [&#34;0.73&#34;], &#34;type&#34;: &#34;U1&#34;}}], &#34;created_qubits&#34;: [], &#34;discarded_qubits&#34;: [], &#34;implicit_permutation&#34;: [[[&#34;q&#34;, [0]], [&#34;q&#34;, [0]]]], &#34;phase&#34;: &#34;0.0&#34;, &#34;qubits&#34;: [[&#34;q&#34;, [0]]]}, &#34;id&#34;: &#34;efc93c72-ef3a-4285-bd9a-18dc5d054dfd&#34;, &#34;type&#34;: &#34;CircBox&#34;}, &#34;type&#34;: &#34;CircBox&#34;}, &#34;type&#34;: &#34;QControlBox&#34;}, &#34;type&#34;: &#34;QControlBox&#34;}}, {&#34;args&#34;: [[&#34;q&#34;, [0]]], &#34;op&#34;: {&#34;type&#34;: &#34;H&#34;}}, {&#34;args&#34;: [[&#34;q&#34;, [0]], [&#34;c&#34;, [2]]], &#34;op&#34;: {&#34;type&#34;: &#34;Measure&#34;}}, {&#34;args&#34;: [[&#34;q&#34;, [0]]], &#34;op&#34;: {&#34;type&#34;: &#34;Reset&#34;}}, {&#34;args&#34;: [[&#34;q&#34;, [0]]], &#34;op&#34;: {&#34;type&#34;: &#34;H&#34;}}, {&#34;args&#34;: [[&#34;c&#34;, [0]], [&#34;q&#34;, [0]]], &#34;op&#34;: {&#34;conditional&#34;: {&#34;op&#34;: {&#34;params&#34;: [&#34;-0.2&#34;], &#34;type&#34;: &#34;Rz&#34;}, &#34;value&#34;: 1, &#34;width&#34;: 1}, &#34;type&#34;: &#34;Conditional&#34;}}, {&#34;args&#34;: [[&#34;c&#34;, [1]], [&#34;q&#34;, [0]]], &#34;op&#34;: {&#34;conditional&#34;: {&#34;op&#34;: {&#34;params&#34;: [&#34;-0.4&#34;], &#34;type&#34;: &#34;Rz&#34;}, &#34;value&#34;: 1, &#34;width&#34;: 1}, &#34;type&#34;: &#34;Conditional&#34;}}, {&#34;args&#34;: [[&#34;c&#34;, [2]], [&#34;q&#34;, [0]]], &#34;op&#34;: {&#34;conditional&#34;: {&#34;op&#34;: {&#34;params&#34;: [&#34;-0.6&#34;], &#34;type&#34;: &#34;Rz&#34;}, &#34;value&#34;: 1, &#34;width&#34;: 1}, &#34;type&#34;: &#34;Conditional&#34;}}, {&#34;args&#34;: [[&#34;c&#34;, [3]], [&#34;q&#34;, [0]]], &#34;op&#34;: {&#34;conditional&#34;: {&#34;op&#34;: {&#34;params&#34;: [&#34;-0.8&#34;], &#34;type&#34;: &#34;Rz&#34;}, &#34;value&#34;: 1, &#34;width&#34;: 1}, &#34;type&#34;: &#34;Conditional&#34;}}, {&#34;args&#34;: [[&#34;q&#34;, [0]], [&#34;q&#34;, [1]], [&#34;q&#34;, [3]]], &#34;op&#34;: {&#34;box&#34;: {&#34;control_state&#34;: 3, &#34;id&#34;: &#34;f401fa7c-ba9f-4e4d-b1fb-fa0329733dd4&#34;, &#34;n_controls&#34;: 2, &#34;op&#34;: {&#34;box&#34;: {&#34;circuit&#34;: {&#34;bits&#34;: [], &#34;commands&#34;: [{&#34;args&#34;: [[&#34;q&#34;, [0]]], &#34;op&#34;: {&#34;params&#34;: [&#34;0.73&#34;], &#34;type&#34;: &#34;U1&#34;}}], &#34;created_qubits&#34;: [], &#34;discarded_qubits&#34;: [], &#34;implicit_permutation&#34;: [[[&#34;q&#34;, [0]], [&#34;q&#34;, [0]]]], &#34;phase&#34;: &#34;0.0&#34;, &#34;qubits&#34;: [[&#34;q&#34;, [0]]]}, &#34;id&#34;: &#34;efc93c72-ef3a-4285-bd9a-18dc5d054dfd&#34;, &#34;type&#34;: &#34;CircBox&#34;}, &#34;type&#34;: &#34;CircBox&#34;}, &#34;type&#34;: &#34;QControlBox&#34;}, &#34;type&#34;: &#34;QControlBox&#34;}}, {&#34;args&#34;: [[&#34;q&#34;, [0]]], &#34;op&#34;: {&#34;type&#34;: &#34;H&#34;}}, {&#34;args&#34;: [[&#34;q&#34;, [0]], [&#34;c&#34;, [3]]], &#34;op&#34;: {&#34;type&#34;: &#34;Measure&#34;}}], &#34;created_qubits&#34;: [], &#34;discarded_qubits&#34;: [], &#34;implicit_permutation&#34;: [[[&#34;q&#34;, [0]], [&#34;q&#34;, [0]]], [[&#34;q&#34;, [1]], [&#34;q&#34;, [1]]], [[&#34;q&#34;, [2]], [&#34;q&#34;, [2]]], [[&#34;q&#34;, [3]], [&#34;q&#34;, [3]]]], &#34;name&#34;: &#34;test&#34;, &#34;phase&#34;: &#34;0.0&#34;, &#34;qubits&#34;: [[&#34;q&#34;, [0]], [&#34;q&#34;, [1]], [&#34;q&#34;, [2]], [&#34;q&#34;, [3]]]}&lt;/div&gt;\n",
       "        &lt;/div&gt;\n",
       "        &lt;circuit-display-container\n",
       "                :circuit-element-str=&#34;&#39;#circuit-json-to-display&#39;&#34;\n",
       "                :init-render-options=&#34;initRenderOptions&#34;\n",
       "        &gt;&lt;/circuit-display-container&gt;\n",
       "    &lt;/div&gt;\n",
       "    &lt;script type=&#34;application/javascript&#34;&gt;\n",
       "      const circuitRendererUid = &#34;aae853d9-0c33-4b66-aea1-d135198f7ee7&#34;;\n",
       "      const displayOptions = JSON.parse(&#39;{}&#39;);\n",
       "\n",
       "      // Script to initialise the circuit renderer app\n",
       "\n",
       "const { createApp } = Vue;\n",
       "const circuitDisplayContainer = window[&#34;pytket-circuit-renderer&#34;].default;\n",
       "// Init variables to be shared between circuit display instances\n",
       "if (typeof window.pytketCircuitDisplays === &#34;undefined&#34;) {\n",
       "    window.pytketCircuitDisplays = {};\n",
       "}\n",
       "// Create the root Vue component\n",
       "const app = createApp({\n",
       "    delimiters: [&#39;[[#&#39;, &#39;#]]&#39;],\n",
       "    components: { circuitDisplayContainer },\n",
       "    data () {\n",
       "      return {\n",
       "        initRenderOptions: displayOptions,\n",
       "      }\n",
       "    }\n",
       "})\n",
       "app.config.unwrapInjectedRef = true;\n",
       "app.mount(&#34;#circuit-display-vue-container-&#34;+circuitRendererUid);\n",
       "window.pytketCircuitDisplays[circuitRendererUid] = app;\n",
       "    &lt;/script&gt;\n",
       "\n",
       "\n",
       "\n",
       "&lt;/body&gt;\n",
       "&lt;/html&gt;\n",
       "\"\n",
       "            width=\"100%\" height=\"100%\"\n",
       "            style=\"border: none; outline: none; overflow: auto\"></iframe>\n",
       "</div>\n",
       "\n"
      ],
      "text/plain": [
       "<IPython.core.display.HTML object>"
      ]
     },
     "metadata": {},
     "output_type": "display_data"
    }
   ],
   "source": [
    "from pytket import Circuit\n",
    "from pytket import OpType\n",
    "from pytket.circuit.display import render_circuit_jupyter\n",
    "\n",
    "my_circuit = Circuit(4)\n",
    "cr = my_circuit.add_c_register(\"c\", 4)\n",
    "\n",
    "# block 1\n",
    "my_circuit.H(0).X(1).X(2).X(3)\n",
    "\n",
    "# block 2\n",
    "my_circuit.add_gate(controlled_u1, [0, 1, 3])\n",
    "my_circuit.add_gate(controlled_u1, [0, 1, 3])\n",
    "my_circuit.add_gate(controlled_u1, [0, 1, 3])\n",
    "my_circuit.add_gate(controlled_u1, [0, 1, 3])\n",
    "\n",
    "#block 3\n",
    "my_circuit.H(0)\n",
    "my_circuit.Measure(0, 0)\n",
    "my_circuit.Reset(0)\n",
    "my_circuit.H(0)\n",
    "my_circuit.Rz(-0.5, 0, condition_bits= [0], condition_value=1)\n",
    "\n",
    "#block 4\n",
    "my_circuit.add_gate(controlled_u1, [0, 1, 3])\n",
    "my_circuit.add_gate(controlled_u1, [0, 1, 3])\n",
    "\n",
    "#block 5\n",
    "my_circuit.H(0)\n",
    "my_circuit.Measure(0, 1)\n",
    "my_circuit.Reset(0)\n",
    "my_circuit.H(0)\n",
    "\n",
    "#block 6\n",
    "my_circuit.Rz(-0.25, 0, condition_bits=[0], condition_value=1)\n",
    "my_circuit.Rz(-0.5, 0, condition_bits=[1], condition_value=1)\n",
    "my_circuit.Rz(-0.75, 0, condition_bits=[2], condition_value=1)\n",
    "my_circuit.add_gate(controlled_u1, [0, 1, 3])\n",
    "my_circuit.add_gate(controlled_u1, [0, 1, 3])\n",
    "\n",
    "#block 7\n",
    "my_circuit.H(0)\n",
    "my_circuit.Measure(0, 2)\n",
    "my_circuit.Reset(0)\n",
    "my_circuit.H(0)\n",
    "\n",
    "#block 7\n",
    "my_circuit.Rz(-0.2, 0, condition_bits=[0], condition_value=1)\n",
    "my_circuit.Rz(-0.4, 0, condition_bits=[1], condition_value=1)\n",
    "my_circuit.Rz(-0.6, 0, condition_bits=[2], condition_value=1)\n",
    "my_circuit.Rz(-0.8, 0, condition_bits=[3], condition_value=1)\n",
    "my_circuit.add_gate(controlled_u1, [0, 1, 3])\n",
    "\n",
    "# end\n",
    "my_circuit.H(0)\n",
    "my_circuit.Measure(0, 3)\n",
    "\n",
    "# my_circuit.measure_all()\n",
    "\n",
    "my_circuit.name = \"test\"\n",
    "\n",
    "render_circuit_jupyter(my_circuit)"
   ]
  },
  {
   "cell_type": "code",
   "execution_count": 36,
   "id": "ce24b749-9468-48e5-a26d-ff23ea3f3bbb",
   "metadata": {},
   "outputs": [
    {
     "name": "stdout",
     "output_type": "stream",
     "text": [
      "\n",
      "New project created: Nexus iQuHack tutorial project! - 2024-02-03 23:49:54.572721\n",
      "\n",
      "Started using project with name: Nexus iQuHack tutorial project! - 2024-02-03 23:49:54.572721\n"
     ]
    }
   ],
   "source": [
    "from pytket.extensions.nexus import NexusBackend, QuantinuumConfig, Nexus\n",
    "from datetime import datetime\n",
    "\n",
    "nexus = Nexus()\n",
    "my_project = nexus.new_project(name=f\"Nexus iQuHack tutorial project! - {datetime.now()}\")\n",
    "\n",
    "device = \"H1-1E\"\n",
    "# device = \"H1-1LE\"\n",
    "\n",
    "configuration = QuantinuumConfig(device_name=device)\n",
    "# , user_group=\"iQuHACK_2024\"\n",
    "\n",
    "backend = NexusBackend(\n",
    "    backend_config= configuration, \n",
    "    project= my_project\n",
    ")"
   ]
  },
  {
   "cell_type": "code",
   "execution_count": 37,
   "id": "52722a10-f24a-4643-b550-821569e63960",
   "metadata": {},
   "outputs": [
    {
     "data": {
      "text/plain": [
       "True"
      ]
     },
     "execution_count": 37,
     "metadata": {},
     "output_type": "execute_result"
    }
   ],
   "source": [
    "from pytket.passes import DecomposeBoxes\n",
    "\n",
    "DecomposeBoxes().apply(my_circuit)"
   ]
  },
  {
   "cell_type": "code",
   "execution_count": 38,
   "id": "d9452d26-826a-48a7-a4b3-93e95ae7af34",
   "metadata": {},
   "outputs": [
    {
     "name": "stdout",
     "output_type": "stream",
     "text": [
      "\n",
      "Started using project with name: Nexus iQuHack tutorial project! - 2024-02-03 23:49:54.572721\n"
     ]
    }
   ],
   "source": [
    "from pytket.extensions.nexus import NexusBackend\n",
    "\n",
    "# Then we'll create a NexusBackend using our config and the project we created\n",
    "backend = NexusBackend(configuration, project=my_project)"
   ]
  },
  {
   "cell_type": "code",
   "execution_count": 39,
   "id": "dd1fb804-88b6-4419-adae-b992245a5adf",
   "metadata": {},
   "outputs": [],
   "source": [
    "# Compile the circuit in Nexus\n",
    "compiled_circ = backend.get_compiled_circuit(my_circuit)"
   ]
  },
  {
   "cell_type": "code",
   "execution_count": 40,
   "id": "df31e8d1-1649-4e90-9cd2-be3e67fff58e",
   "metadata": {},
   "outputs": [
    {
     "name": "stdout",
     "output_type": "stream",
     "text": [
      "('ce3dd11e-fe84-437a-b039-bbb02837944d', 1894636)\n"
     ]
    }
   ],
   "source": [
    "# Run the compiled circuit for 10 shots\n",
    "handle = backend.process_circuit(compiled_circ, n_shots=10)\n",
    "\n",
    "\n",
    "# This will give you a ResultHandle\n",
    "# As with other pytket-backends, a ResultHandle identifies a particular run of the circuit, which you can then use to keep track of the job status.\n",
    "print(handle)"
   ]
  },
  {
   "cell_type": "code",
   "execution_count": 41,
   "id": "520e21c1-019a-43af-a517-4680f411357a",
   "metadata": {},
   "outputs": [
    {
     "data": {
      "text/plain": [
       "CircuitStatus(status=<StatusEnum.SUBMITTED: 'Circuit has been submitted.'>, message='Circuit has been submitted to Nexus for Processing.', error_detail=None, completed_time=None, queued_time=None, submitted_time=datetime.datetime(2024, 2, 3, 23, 50, 4, 288632, tzinfo=datetime.timezone.utc), running_time=None, cancelled_time=None, error_time=None, queue_position=None)"
      ]
     },
     "execution_count": 41,
     "metadata": {},
     "output_type": "execute_result"
    }
   ],
   "source": [
    "# Get an update on the status\n",
    "backend.circuit_status(handle)"
   ]
  },
  {
   "cell_type": "code",
   "execution_count": 42,
   "id": "5b035628-5e2a-4a82-bcf4-32493dbf766f",
   "metadata": {},
   "outputs": [
    {
     "data": {
      "text/plain": [
       "{(1, 1, 0, 0): 0.1, (1, 1, 1, 0): 0.5, (1, 1, 1, 1): 0.4}"
      ]
     },
     "execution_count": 42,
     "metadata": {},
     "output_type": "execute_result"
    }
   ],
   "source": [
    "# If the job is COMPLETED we can then retrieve the result with the handle\n",
    "result = backend.get_result(handle)\n",
    "\n",
    "\n",
    "result.get_distribution()"
   ]
  },
  {
   "cell_type": "code",
   "execution_count": 43,
   "id": "fddc2783-8682-4d2a-b24f-0b9994189f73",
   "metadata": {},
   "outputs": [],
   "source": [
    "n_shots = 1000\n",
    "result = backend.run_circuit(compiled_circ, n_shots)"
   ]
  },
  {
   "cell_type": "code",
   "execution_count": 44,
   "id": "aa213a41-139e-4015-8843-ee5c26439243",
   "metadata": {},
   "outputs": [
    {
     "name": "stdout",
     "output_type": "stream",
     "text": [
      "Counter({(1, 1, 1, 0): 440, (1, 1, 1, 1): 336, (1, 1, 0, 0): 159, (1, 1, 0, 1): 17, (0, 1, 1, 0): 10, (1, 0, 0, 0): 8, (1, 0, 1, 0): 8, (0, 0, 0, 0): 6, (0, 0, 1, 0): 6, (0, 0, 0, 1): 5, (0, 1, 1, 1): 3, (1, 0, 0, 1): 1, (1, 0, 1, 1): 1})\n"
     ]
    }
   ],
   "source": [
    "print(result.get_counts())"
   ]
  },
  {
   "cell_type": "code",
   "execution_count": 45,
   "id": "b22e3217-39af-4617-9e18-534e4898ce76",
   "metadata": {},
   "outputs": [],
   "source": [
    "from pytket.backends.backendresult import BackendResult\n",
    "import matplotlib.pyplot as plt"
   ]
  },
  {
   "cell_type": "code",
   "execution_count": 46,
   "id": "4cd21b03-b44e-4501-9d6d-9cc4d084369d",
   "metadata": {},
   "outputs": [],
   "source": [
    "def plot_qpe_results(\n",
    "    sim_result: BackendResult,\n",
    "    n_strings: int = 10,\n",
    "    dark_mode: bool = False,\n",
    "    y_limit: int = 1000,\n",
    ") -> None:\n",
    "    \"\"\"\n",
    "    Plots results in a barchart given a BackendResult. the number of stings displayed\n",
    "    can be specified with the n_strings argument.\n",
    "    \"\"\"\n",
    "    counts_dict = sim_result.get_counts()\n",
    "    sorted_shots = counts_dict.most_common()\n",
    "    n_most_common_strings = sorted_shots[:n_strings]\n",
    "    x_axis_values = [str(entry[0]) for entry in n_most_common_strings]  # basis states\n",
    "    y_axis_values = [entry[1] for entry in n_most_common_strings]  # counts\n",
    "    if dark_mode:\n",
    "        plt.style.use(\"dark_background\")\n",
    "    fig = plt.figure()\n",
    "    ax = fig.add_axes((0, 0, 0.75, 0.5))\n",
    "    color_list = [\"orange\"] * (len(x_axis_values))\n",
    "    ax.bar(\n",
    "        x=x_axis_values,\n",
    "        height=y_axis_values,\n",
    "        color=color_list,\n",
    "    )\n",
    "    ax.set_title(label=\"Results\")\n",
    "    plt.ylim([0, y_limit])\n",
    "    plt.xlabel(\"Basis State\")\n",
    "    plt.ylabel(\"Number of Shots\")\n",
    "    plt.show()"
   ]
  },
  {
   "cell_type": "code",
   "execution_count": 47,
   "id": "6ce824c3-7117-4124-8923-3d955e046c43",
   "metadata": {},
   "outputs": [
    {
     "data": {
      "image/png": "[encoded data removed]",
      "text/plain": [
       "<Figure size 640x480 with 1 Axes>"
      ]
     },
     "metadata": {},
     "output_type": "display_data"
    }
   ],
   "source": [
    "plot_qpe_results(result, y_limit=int(1.2 * n_shots))"
   ]
  },
  {
   "cell_type": "code",
   "execution_count": 48,
   "id": "e38820d8-6725-45de-8edb-3245880c24bd",
   "metadata": {},
   "outputs": [],
   "source": [
    "from pytket.backends.backendresult import BackendResult"
   ]
  },
  {
   "cell_type": "code",
   "execution_count": 49,
   "id": "803f4cc0-3b6d-498b-872d-dcf1132fa7d7",
   "metadata": {},
   "outputs": [],
   "source": [
    "def single_phase_from_backendresult(result: BackendResult) -> float:\n",
    "    # Extract most common measurement outcome\n",
    "    basis_state = result.get_counts().most_common()[0][0]\n",
    "    bitstring = \"\".join([str(bit) for bit in basis_state])\n",
    "    integer_j = int(bitstring, 2)\n",
    "\n",
    "    # Calculate theta estimate\n",
    "    return integer_j / (2 ** len(bitstring))"
   ]
  },
  {
   "cell_type": "code",
   "execution_count": 50,
   "id": "dc873aa6-02a5-46e5-bdfd-cfac78d6d600",
   "metadata": {},
   "outputs": [
    {
     "name": "stdout",
     "output_type": "stream",
     "text": [
      "0.875\n"
     ]
    }
   ],
   "source": [
    "theta = single_phase_from_backendresult(result)\n",
    "print(theta)"
   ]
  },
  {
   "cell_type": "code",
   "execution_count": 51,
   "id": "11cca701-71aa-4ad9-91ef-132b0dad48c6",
   "metadata": {},
   "outputs": [
    {
     "name": "stdout",
     "output_type": "stream",
     "text": [
      "0.365\n"
     ]
    }
   ],
   "source": [
    "print(input_angle / 2)"
   ]
  },
  {
   "cell_type": "code",
   "execution_count": 52,
   "id": "143938fa-a10d-4986-bd55-45b03bec5b02",
   "metadata": {},
   "outputs": [
    {
     "name": "stdout",
     "output_type": "stream",
     "text": [
      "0.145\n"
     ]
    }
   ],
   "source": [
    "error = round(abs(input_angle - (theta)), 3)\n",
    "print(error)"
   ]
  },
  {
   "cell_type": "code",
   "execution_count": null,
   "id": "e386ca1f-eb05-4f11-aca3-9949cb1478fd",
   "metadata": {},
   "outputs": [],
   "source": []
  }
 ],
 "metadata": {
  "kernelspec": {
   "display_name": "Python 3 (ipykernel)",
   "language": "python",
   "name": "python3"
  },
  "language_info": {
   "codemirror_mode": {
    "name": "ipython",
    "version": 3
   },
   "file_extension": ".py",
   "mimetype": "text/x-python",
   "name": "python",
   "nbconvert_exporter": "python",
   "pygments_lexer": "ipython3",
   "version": "3.10.10"
  }
 },
 "nbformat": 4,
 "nbformat_minor": 5
}
