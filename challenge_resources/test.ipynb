{
 "cells": [
  {
   "cell_type": "code",
   "execution_count": 45,
   "id": "60753632-9e03-4e51-be03-12e1423dcd87",
   "metadata": {},
   "outputs": [],
   "source": [
    "from pytket.circuit import Op \n",
    "\n",
    "\n",
    "base_u1 = Op.create(OpType.U1, [0.25])"
   ]
  },
  {
   "cell_type": "code",
   "execution_count": 46,
   "id": "8fff4b78-1ee6-4cb2-8bf1-12556d0dc3e5",
   "metadata": {},
   "outputs": [],
   "source": [
    "from pytket.circuit import QControlBox\n",
    "\n",
    "controlled_u1 = QControlBox(base_u1, n=2)"
   ]
  },
  {
   "cell_type": "code",
   "execution_count": 85,
   "id": "5619fc4d-4bf7-43cb-8747-bff1a7031bde",
   "metadata": {},
   "outputs": [],
   "source": [
    "from pytket.pauli import PauliStabiliser\n",
    "from pytket.pauli import Pauli\n",
    "\n",
    "phase_stabilise_z = PauliStabiliser([Pauli.Z], 1)\n"
   ]
  },
  {
   "cell_type": "code",
   "execution_count": 91,
   "id": "5d492625-cddf-4788-9dd5-305eaca4038d",
   "metadata": {},
   "outputs": [
    {
     "data": {
      "text/html": [
       "\n",
       "\n",
       "\n",
       "\n",
       "\n",
       "\n",
       "<div style=\"resize: vertical; overflow: auto; height: 400px; display: block\">\n",
       "    <iframe srcdoc=\"\n",
       "&lt;!DOCTYPE html&gt;\n",
       "&lt;html lang=&#34;en&#34;&gt;\n",
       "&lt;head&gt;\n",
       "    &lt;meta charset=&#34;UTF-8&#34;&gt;\n",
       "    &lt;!-- Download Vue 3--&gt;\n",
       "&lt;script type=&#34;application/javascript&#34; src=&#34;https://cdn.jsdelivr.net/npm/vue@3&#34;&gt;&lt;/script&gt;\n",
       "&lt;!-- Download Circuit Renderer with styles --&gt;\n",
       "&lt;script type=&#34;application/javascript&#34; src=&#34;https://unpkg.com/pytket-circuit-renderer@0.7/dist/pytket-circuit-renderer.umd.js&#34;&gt;&lt;/script&gt;\n",
       "&lt;link rel=&#34;stylesheet&#34; href=&#34;https://unpkg.com/pytket-circuit-renderer@0.7/dist/pytket-circuit-renderer.css&#34;&gt;\n",
       "&lt;/head&gt;\n",
       "&lt;body&gt;\n",
       "\n",
       "\n",
       "\n",
       "    &lt;div id=&#34;circuit-display-vue-container-48fe4b74-e5d0-46b1-9a0d-6f82e2aa81b3&#34; class=&#34;pytket-circuit-display-container&#34;&gt;\n",
       "        &lt;div style=&#34;display: none&#34;&gt;\n",
       "            &lt;div id=&#34;circuit-json-to-display&#34;&gt;{&#34;bits&#34;: [[&#34;c&#34;, [0]], [&#34;c&#34;, [1]], [&#34;c&#34;, [2]], [&#34;c&#34;, [3]], [&#34;c&#34;, [4]]], &#34;commands&#34;: [{&#34;args&#34;: [[&#34;q&#34;, [0]]], &#34;op&#34;: {&#34;type&#34;: &#34;H&#34;}}, {&#34;args&#34;: [[&#34;q&#34;, [1]]], &#34;op&#34;: {&#34;type&#34;: &#34;X&#34;}}, {&#34;args&#34;: [[&#34;q&#34;, [2]]], &#34;op&#34;: {&#34;type&#34;: &#34;X&#34;}}, {&#34;args&#34;: [[&#34;q&#34;, [0]], [&#34;q&#34;, [1]], [&#34;q&#34;, [2]]], &#34;op&#34;: {&#34;box&#34;: {&#34;control_state&#34;: 3, &#34;id&#34;: &#34;acf419ac-ab1c-4684-8a65-b46c5e909bd1&#34;, &#34;n_controls&#34;: 2, &#34;op&#34;: {&#34;params&#34;: [&#34;0.25&#34;], &#34;type&#34;: &#34;U1&#34;}, &#34;type&#34;: &#34;QControlBox&#34;}, &#34;type&#34;: &#34;QControlBox&#34;}}, {&#34;args&#34;: [[&#34;q&#34;, [0]], [&#34;q&#34;, [1]], [&#34;q&#34;, [2]]], &#34;op&#34;: {&#34;box&#34;: {&#34;control_state&#34;: 3, &#34;id&#34;: &#34;acf419ac-ab1c-4684-8a65-b46c5e909bd1&#34;, &#34;n_controls&#34;: 2, &#34;op&#34;: {&#34;params&#34;: [&#34;0.25&#34;], &#34;type&#34;: &#34;U1&#34;}, &#34;type&#34;: &#34;QControlBox&#34;}, &#34;type&#34;: &#34;QControlBox&#34;}}, {&#34;args&#34;: [[&#34;q&#34;, [0]], [&#34;q&#34;, [1]], [&#34;q&#34;, [2]]], &#34;op&#34;: {&#34;box&#34;: {&#34;control_state&#34;: 3, &#34;id&#34;: &#34;acf419ac-ab1c-4684-8a65-b46c5e909bd1&#34;, &#34;n_controls&#34;: 2, &#34;op&#34;: {&#34;params&#34;: [&#34;0.25&#34;], &#34;type&#34;: &#34;U1&#34;}, &#34;type&#34;: &#34;QControlBox&#34;}, &#34;type&#34;: &#34;QControlBox&#34;}}, {&#34;args&#34;: [[&#34;q&#34;, [0]], [&#34;q&#34;, [1]], [&#34;q&#34;, [2]]], &#34;op&#34;: {&#34;box&#34;: {&#34;control_state&#34;: 3, &#34;id&#34;: &#34;acf419ac-ab1c-4684-8a65-b46c5e909bd1&#34;, &#34;n_controls&#34;: 2, &#34;op&#34;: {&#34;params&#34;: [&#34;0.25&#34;], &#34;type&#34;: &#34;U1&#34;}, &#34;type&#34;: &#34;QControlBox&#34;}, &#34;type&#34;: &#34;QControlBox&#34;}}, {&#34;args&#34;: [[&#34;q&#34;, [0]]], &#34;op&#34;: {&#34;type&#34;: &#34;H&#34;}}, {&#34;args&#34;: [[&#34;q&#34;, [0]], [&#34;c&#34;, [3]]], &#34;op&#34;: {&#34;type&#34;: &#34;Measure&#34;}}, {&#34;args&#34;: [[&#34;q&#34;, [0]]], &#34;op&#34;: {&#34;type&#34;: &#34;Reset&#34;}}, {&#34;args&#34;: [[&#34;q&#34;, [0]]], &#34;op&#34;: {&#34;type&#34;: &#34;H&#34;}}, {&#34;args&#34;: [[&#34;c&#34;, [0]], [&#34;q&#34;, [0]]], &#34;op&#34;: {&#34;conditional&#34;: {&#34;op&#34;: {&#34;params&#34;: [&#34;-0.5&#34;], &#34;type&#34;: &#34;Rz&#34;}, &#34;value&#34;: 1, &#34;width&#34;: 1}, &#34;type&#34;: &#34;Conditional&#34;}}, {&#34;args&#34;: [[&#34;q&#34;, [0]], [&#34;q&#34;, [1]], [&#34;q&#34;, [2]]], &#34;op&#34;: {&#34;box&#34;: {&#34;control_state&#34;: 3, &#34;id&#34;: &#34;acf419ac-ab1c-4684-8a65-b46c5e909bd1&#34;, &#34;n_controls&#34;: 2, &#34;op&#34;: {&#34;params&#34;: [&#34;0.25&#34;], &#34;type&#34;: &#34;U1&#34;}, &#34;type&#34;: &#34;QControlBox&#34;}, &#34;type&#34;: &#34;QControlBox&#34;}}, {&#34;args&#34;: [[&#34;q&#34;, [0]], [&#34;q&#34;, [1]], [&#34;q&#34;, [2]]], &#34;op&#34;: {&#34;box&#34;: {&#34;control_state&#34;: 3, &#34;id&#34;: &#34;acf419ac-ab1c-4684-8a65-b46c5e909bd1&#34;, &#34;n_controls&#34;: 2, &#34;op&#34;: {&#34;params&#34;: [&#34;0.25&#34;], &#34;type&#34;: &#34;U1&#34;}, &#34;type&#34;: &#34;QControlBox&#34;}, &#34;type&#34;: &#34;QControlBox&#34;}}, {&#34;args&#34;: [[&#34;q&#34;, [0]]], &#34;op&#34;: {&#34;type&#34;: &#34;H&#34;}}, {&#34;args&#34;: [[&#34;q&#34;, [0]], [&#34;c&#34;, [3]]], &#34;op&#34;: {&#34;type&#34;: &#34;Measure&#34;}}, {&#34;args&#34;: [[&#34;q&#34;, [0]]], &#34;op&#34;: {&#34;type&#34;: &#34;Reset&#34;}}, {&#34;args&#34;: [[&#34;q&#34;, [0]]], &#34;op&#34;: {&#34;type&#34;: &#34;H&#34;}}], &#34;created_qubits&#34;: [], &#34;discarded_qubits&#34;: [], &#34;implicit_permutation&#34;: [[[&#34;q&#34;, [0]], [&#34;q&#34;, [0]]], [[&#34;q&#34;, [1]], [&#34;q&#34;, [1]]], [[&#34;q&#34;, [2]], [&#34;q&#34;, [2]]]], &#34;name&#34;: &#34;test&#34;, &#34;phase&#34;: &#34;0.0&#34;, &#34;qubits&#34;: [[&#34;q&#34;, [0]], [&#34;q&#34;, [1]], [&#34;q&#34;, [2]]]}&lt;/div&gt;\n",
       "        &lt;/div&gt;\n",
       "        &lt;circuit-display-container\n",
       "                :circuit-element-str=&#34;&#39;#circuit-json-to-display&#39;&#34;\n",
       "                :init-render-options=&#34;initRenderOptions&#34;\n",
       "        &gt;&lt;/circuit-display-container&gt;\n",
       "    &lt;/div&gt;\n",
       "    &lt;script type=&#34;application/javascript&#34;&gt;\n",
       "      const circuitRendererUid = &#34;48fe4b74-e5d0-46b1-9a0d-6f82e2aa81b3&#34;;\n",
       "      const displayOptions = JSON.parse(&#39;{}&#39;);\n",
       "\n",
       "      // Script to initialise the circuit renderer app\n",
       "\n",
       "const { createApp } = Vue;\n",
       "const circuitDisplayContainer = window[&#34;pytket-circuit-renderer&#34;].default;\n",
       "// Init variables to be shared between circuit display instances\n",
       "if (typeof window.pytketCircuitDisplays === &#34;undefined&#34;) {\n",
       "    window.pytketCircuitDisplays = {};\n",
       "}\n",
       "// Create the root Vue component\n",
       "const app = createApp({\n",
       "    delimiters: [&#39;[[#&#39;, &#39;#]]&#39;],\n",
       "    components: { circuitDisplayContainer },\n",
       "    data () {\n",
       "      return {\n",
       "        initRenderOptions: displayOptions,\n",
       "      }\n",
       "    }\n",
       "})\n",
       "app.config.unwrapInjectedRef = true;\n",
       "app.mount(&#34;#circuit-display-vue-container-&#34;+circuitRendererUid);\n",
       "window.pytketCircuitDisplays[circuitRendererUid] = app;\n",
       "    &lt;/script&gt;\n",
       "\n",
       "\n",
       "\n",
       "&lt;/body&gt;\n",
       "&lt;/html&gt;\n",
       "\"\n",
       "            width=\"100%\" height=\"100%\"\n",
       "            style=\"border: none; outline: none; overflow: auto\"></iframe>\n",
       "</div>\n",
       "\n"
      ],
      "text/plain": [
       "<IPython.core.display.HTML object>"
      ]
     },
     "metadata": {},
     "output_type": "display_data"
    }
   ],
   "source": [
    "from pytket import Circuit\n",
    "from pytket import OpType\n",
    "from pytket.circuit.display import render_circuit_jupyter\n",
    "\n",
    "my_circuit = Circuit(3, 5)\n",
    "# block 1\n",
    "my_circuit.H(0).X(1).X(2)\n",
    "# block 2\n",
    "my_circuit.add_gate(controlled_u1, [0, 1, 2])\n",
    "my_circuit.add_gate(controlled_u1, [0, 1, 2])\n",
    "my_circuit.add_gate(controlled_u1, [0, 1, 2])\n",
    "my_circuit.add_gate(controlled_u1, [0, 1, 2])\n",
    "\n",
    "#block 3\n",
    "my_circuit.H(0)\n",
    "my_circuit.Measure(0, 3)\n",
    "my_circuit.Reset(0)\n",
    "my_circuit.H(0)\n",
    "my_circuit.Rz(-0.5, 0, condition_bits=[0], condition_value=1)\n",
    "\n",
    "#block 4\n",
    "my_circuit.add_gate(controlled_u1, [0, 1, 2])\n",
    "my_circuit.add_gate(controlled_u1, [0, 1, 2])\n",
    "\n",
    "#block 5\n",
    "my_circuit.H(0)\n",
    "my_circuit.Measure(0, 3)\n",
    "my_circuit.Reset(0)\n",
    "my_circuit.H(0)\n",
    "\n",
    "#block 6\n",
    "my_circuit.Rz(-0.25, 0, condition_bits=[0], condition_value=1)\n",
    "my_circuit.Rz(-0.5, 0, condition_bits=[0], condition_value=1)\n",
    "my_circuit.Rz(-0.75, 0, condition_bits=[0], condition_value=1)\n",
    "\n",
    "# my_circuit.measure_all()\n",
    "\n",
    "my_circuit.name = \"test\"\n",
    "\n",
    "render_circuit_jupyter(my_circuit)"
   ]
  },
  {
   "cell_type": "code",
   "execution_count": null,
   "id": "ce24b749-9468-48e5-a26d-ff23ea3f3bbb",
   "metadata": {},
   "outputs": [],
   "source": []
  }
 ],
 "metadata": {
  "kernelspec": {
   "display_name": "Python 3 (ipykernel)",
   "language": "python",
   "name": "python3"
  },
  "language_info": {
   "codemirror_mode": {
    "name": "ipython",
    "version": 3
   },
   "file_extension": ".py",
   "mimetype": "text/x-python",
   "name": "python",
   "nbconvert_exporter": "python",
   "pygments_lexer": "ipython3",
   "version": "3.10.10"
  }
 },
 "nbformat": 4,
 "nbformat_minor": 5
}
